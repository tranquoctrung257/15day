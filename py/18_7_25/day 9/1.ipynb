{
 "cells": [
  {
   "cell_type": "markdown",
   "id": "0999ab7f",
   "metadata": {},
   "source": [
    "vòng lặp for lặp với số lần xác định\n",
    "vòng lặp while lặp với số lần không biết trước.\n",
    "break: thoát hoàn toàn ra khỏi vòng lặp nếu gặp\n",
    "cotinue : bỏ qua đoạn code ở dưới nếu gặp và chạy đoạn code tiếp theo"
   ]
  },
  {
   "cell_type": "code",
   "execution_count": null,
   "id": "3d520408",
   "metadata": {},
   "outputs": [
    {
     "name": "stdout",
     "output_type": "stream",
     "text": [
      "hello word\n",
      "hello word\n",
      "hello word\n",
      "hello word\n",
      "hello word\n"
     ]
    }
   ],
   "source": [
    "\"\"\" print(\"hello world\")\n",
    "print(\"hello world\")\n",
    "print(\"hello world\")\n",
    "print(\"hello world\")\n",
    "print(\"hello world\") \"\"\"\n",
    "# in ra hello world 5 lần mà không cần phải gõ print 5 lần như trên\n",
    "# for(start,stop,step):\n",
    "for _ in range(5):\n",
    "    print(\"hello world\")"
   ]
  },
  {
   "cell_type": "code",
   "execution_count": null,
   "id": "4edf85e4",
   "metadata": {},
   "outputs": [
    {
     "name": "stdout",
     "output_type": "stream",
     "text": [
      "[10, 9, 8, 7, 6, 5, 4, 3, 2, 1]\n",
      "[]\n"
     ]
    }
   ],
   "source": [
    "print(list(range(10,0,-1)))\n",
    "print(list(range(-4))) # range(0,-4,1)\n"
   ]
  },
  {
   "cell_type": "code",
   "execution_count": 9,
   "id": "f0a4a317",
   "metadata": {},
   "outputs": [
    {
     "name": "stdout",
     "output_type": "stream",
     "text": [
      "2\n",
      "4\n",
      "6\n",
      "8\n",
      "10\n",
      "12\n",
      "14\n",
      "16\n",
      "18\n",
      "20\n"
     ]
    }
   ],
   "source": [
    "# in ra số chẵn\n",
    "for i in range(1,21):\n",
    "    if i % 2 == 0:\n",
    "        print(i)"
   ]
  },
  {
   "cell_type": "code",
   "execution_count": 12,
   "id": "b4543df7",
   "metadata": {},
   "outputs": [
    {
     "name": "stdout",
     "output_type": "stream",
     "text": [
      "hello\n",
      "hello\n",
      "hello\n"
     ]
    }
   ],
   "source": [
    "s = input(\"> \")\n",
    "\n",
    "# while sẽ chạy vĩnh viễn nếu không có điều kiện dừng\n",
    "# while s != \"q\":\n",
    "#     print(\"hello\")\n",
    "\n",
    "\n",
    "while s != \"q\":\n",
    "    print(\"hello\")\n",
    "    s = input(\"> \")"
   ]
  },
  {
   "cell_type": "code",
   "execution_count": 13,
   "id": "8ccf4ec4",
   "metadata": {},
   "outputs": [
    {
     "name": "stdout",
     "output_type": "stream",
     "text": [
      "0 - 0\n",
      "0 - 1\n",
      "0 - 2\n",
      "1 - 0\n",
      "1 - 1\n",
      "1 - 2\n",
      "2 - 0\n",
      "2 - 1\n",
      "2 - 2\n",
      "3 - 0\n",
      "3 - 1\n",
      "3 - 2\n",
      "4 - 0\n",
      "4 - 1\n",
      "4 - 2\n"
     ]
    }
   ],
   "source": [
    "# vòng lặp lồng\n",
    "\n",
    "for i in range(5):\n",
    "    for j in range(3):\n",
    "        print(i,j,sep=\" - \")"
   ]
  },
  {
   "cell_type": "code",
   "execution_count": null,
   "id": "63c9c89d",
   "metadata": {},
   "outputs": [
    {
     "name": "stdout",
     "output_type": "stream",
     "text": [
      "1 2 3 4 5 "
     ]
    }
   ],
   "source": [
    "# break\n",
    "# shift + tab để đưa tất cả ra đầu hàng \n",
    "for i in range(1,21):\n",
    "    if i > 5:\n",
    "        break\n",
    "    print(i,end=\" \")"
   ]
  },
  {
   "cell_type": "code",
   "execution_count": 17,
   "id": "e9c82003",
   "metadata": {},
   "outputs": [
    {
     "name": "stdout",
     "output_type": "stream",
     "text": [
      "1 3 5 7 9 11 13 15 17 19 "
     ]
    }
   ],
   "source": [
    "# cotinue:\n",
    "for i in range(1,21):\n",
    "    if i % 2 == 0:\n",
    "        continue\n",
    "    print(i,end=\" \")"
   ]
  },
  {
   "cell_type": "code",
   "execution_count": null,
   "id": "ebb4267b",
   "metadata": {},
   "outputs": [
    {
     "name": "stdout",
     "output_type": "stream",
     "text": [
      "1 3 5 7 9 11 13 15 17 19 Success\n"
     ]
    }
   ],
   "source": [
    "# nếu chạy hết mà không gặp continue hoặc break thì sẽ sử dụng else để biết vòng lặp kết thúc\n",
    "for i in range(1,21):\n",
    "    if i % 2 == 0:\n",
    "        continue\n",
    "    print(i,end=\" \")\n",
    "else:\n",
    "    print(\"Success\")"
   ]
  },
  {
   "cell_type": "code",
   "execution_count": 4,
   "id": "5eb8d3ae",
   "metadata": {},
   "outputs": [
    {
     "name": "stdout",
     "output_type": "stream",
     "text": [
      "[-1, -2, -3, -4, -5, -6, -7, -8, -9]\n",
      "[0]\n"
     ]
    }
   ],
   "source": [
    "print(list(range(-1,-10,-1)))\n",
    "print(list(range(True)))"
   ]
  },
  {
   "cell_type": "code",
   "execution_count": null,
   "id": "16c0a6f0",
   "metadata": {},
   "outputs": [],
   "source": [
    "print()"
   ]
  }
 ],
 "metadata": {
  "kernelspec": {
   "display_name": "Python 3",
   "language": "python",
   "name": "python3"
  },
  "language_info": {
   "codemirror_mode": {
    "name": "ipython",
    "version": 3
   },
   "file_extension": ".py",
   "mimetype": "text/x-python",
   "name": "python",
   "nbconvert_exporter": "python",
   "pygments_lexer": "ipython3",
   "version": "3.10.9"
  }
 },
 "nbformat": 4,
 "nbformat_minor": 5
}
