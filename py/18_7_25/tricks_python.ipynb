{
 "cells": [
  {
   "cell_type": "code",
   "execution_count": 1,
   "id": "1d6c2788",
   "metadata": {},
   "outputs": [
    {
     "name": "stdout",
     "output_type": "stream",
     "text": [
      "ab\n"
     ]
    }
   ],
   "source": [
    "# tricks 1\n",
    "print(\"a\"\"b\")"
   ]
  },
  {
   "cell_type": "code",
   "execution_count": 2,
   "id": "3891571e",
   "metadata": {},
   "outputs": [
    {
     "name": "stdout",
     "output_type": "stream",
     "text": [
      "20 10\n"
     ]
    }
   ],
   "source": [
    "# tricks 2\n",
    "x = 10\n",
    "y = 20\n",
    "x,y = y,x\n",
    "print(x,y)"
   ]
  },
  {
   "cell_type": "code",
   "execution_count": 3,
   "id": "49832c5c",
   "metadata": {},
   "outputs": [
    {
     "name": "stdout",
     "output_type": "stream",
     "text": [
      "1\n",
      "10\n"
     ]
    }
   ],
   "source": [
    "# tricks 3\n",
    "\n",
    "# hàm min max \n",
    "lst = [1,2,8.6,9.2,10]\n",
    "print(min(lst))\n",
    "print(max(lst))\n"
   ]
  },
  {
   "cell_type": "code",
   "execution_count": 4,
   "id": "3e8781c0",
   "metadata": {},
   "outputs": [
    {
     "ename": "ValueError",
     "evalue": "min() arg is an empty sequence",
     "output_type": "error",
     "traceback": [
      "\u001b[1;31m---------------------------------------------------------------------------\u001b[0m",
      "\u001b[1;31mValueError\u001b[0m                                Traceback (most recent call last)",
      "Cell \u001b[1;32mIn[4], line 3\u001b[0m\n\u001b[0;32m      1\u001b[0m \u001b[38;5;66;03m# các trường hợp lỗi của min max \u001b[39;00m\n\u001b[0;32m      2\u001b[0m \u001b[38;5;66;03m# truyền vào list rỗng tuple rỗng ...\u001b[39;00m\n\u001b[1;32m----> 3\u001b[0m \u001b[38;5;28mprint\u001b[39m(\u001b[38;5;28;43mmin\u001b[39;49m\u001b[43m(\u001b[49m\u001b[43m[\u001b[49m\u001b[43m]\u001b[49m\u001b[43m)\u001b[49m)\n",
      "\u001b[1;31mValueError\u001b[0m: min() arg is an empty sequence"
     ]
    }
   ],
   "source": [
    "# các trường hợp lỗi của min max \n",
    "# truyền vào list rỗng tuple rỗng ...\n",
    "print(min([]))"
   ]
  },
  {
   "cell_type": "code",
   "execution_count": null,
   "id": "d4c725ec",
   "metadata": {},
   "outputs": [
    {
     "ename": "TypeError",
     "evalue": "'int' object is not iterable",
     "output_type": "error",
     "traceback": [
      "\u001b[1;31m---------------------------------------------------------------------------\u001b[0m",
      "\u001b[1;31mTypeError\u001b[0m                                 Traceback (most recent call last)",
      "Cell \u001b[1;32mIn[5], line 2\u001b[0m\n\u001b[0;32m      1\u001b[0m \u001b[38;5;66;03m# truyền vào giá trị \u001b[39;00m\n\u001b[1;32m----> 2\u001b[0m \u001b[38;5;28mprint\u001b[39m(\u001b[38;5;28;43mmax\u001b[39;49m\u001b[43m(\u001b[49m\u001b[38;5;241;43m1000\u001b[39;49m\u001b[43m)\u001b[49m)\n",
      "\u001b[1;31mTypeError\u001b[0m: 'int' object is not iterable"
     ]
    }
   ],
   "source": [
    "# truyền vào giá trị \n",
    "print(max(1000)) # phải là iterable nào đó"
   ]
  },
  {
   "cell_type": "code",
   "execution_count": null,
   "id": "5fd7e957",
   "metadata": {},
   "outputs": [
    {
     "name": "stdout",
     "output_type": "stream",
     "text": [
      "d\n",
      "a\n"
     ]
    },
    {
     "ename": "ValueError",
     "evalue": "min() arg is an empty sequence",
     "output_type": "error",
     "traceback": [
      "\u001b[1;31m---------------------------------------------------------------------------\u001b[0m",
      "\u001b[1;31mValueError\u001b[0m                                Traceback (most recent call last)",
      "Cell \u001b[1;32mIn[7], line 3\u001b[0m\n\u001b[0;32m      1\u001b[0m \u001b[38;5;28mprint\u001b[39m(\u001b[38;5;28mmax\u001b[39m(\u001b[38;5;124m\"\u001b[39m\u001b[38;5;124mabcd\u001b[39m\u001b[38;5;124m\"\u001b[39m)) \u001b[38;5;66;03m# dựa vào mã ascii\u001b[39;00m\n\u001b[0;32m      2\u001b[0m \u001b[38;5;28mprint\u001b[39m(\u001b[38;5;28mmin\u001b[39m(\u001b[38;5;124m\"\u001b[39m\u001b[38;5;124mabcd\u001b[39m\u001b[38;5;124m\"\u001b[39m))\n\u001b[1;32m----> 3\u001b[0m \u001b[38;5;28mprint\u001b[39m(\u001b[38;5;28;43mmin\u001b[39;49m\u001b[43m(\u001b[49m\u001b[38;5;124;43m\"\u001b[39;49m\u001b[38;5;124;43m\"\u001b[39;49m\u001b[43m)\u001b[49m)\n",
      "\u001b[1;31mValueError\u001b[0m: min() arg is an empty sequence"
     ]
    }
   ],
   "source": [
    "print(max(\"abcd\")) # dựa vào mã ascii\n",
    "print(min(\"abcd\"))\n",
    "print(min(\"\")) # rỗng sẽ trả về lỗi"
   ]
  },
  {
   "cell_type": "code",
   "execution_count": null,
   "id": "e209d763",
   "metadata": {},
   "outputs": [
    {
     "name": "stdout",
     "output_type": "stream",
     "text": [
      "3.46\n",
      "3\n",
      "4\n",
      "2\n"
     ]
    }
   ],
   "source": [
    "# tricks 4\n",
    "# round() làm tròn theo nguyên tắc tài chính và ngân hàng \n",
    "\n",
    "x = 3.4567\n",
    "print(round(x,2)) # làm tròn đến 2 chữ số.\n",
    "print(round(x)) # làm tròn đến số nguyên gần nhất\n",
    "\n",
    "x = 3.56\n",
    "print(round(x))\n",
    "\n",
    "print(round(2.5)) # nếu lẻ thì làm tròn lên còn chẵn thì làm tròn xuống.\n",
    " \n"
   ]
  },
  {
   "cell_type": "code",
   "execution_count": 15,
   "id": "2e3cbaae",
   "metadata": {},
   "outputs": [
    {
     "name": "stdout",
     "output_type": "stream",
     "text": [
      "0.040639638900756836 s\n"
     ]
    }
   ],
   "source": [
    "# tricks 5 \n",
    "# tính toán thời gian chạy code \n",
    "import time\n",
    "\n",
    "start = time.time() # trả về thời gian hiện tại \n",
    "lst = [x**4 for x in range(100000)]\n",
    "end = time.time() # trả về thời gian lúc kết thúc.\n",
    "\n",
    "print(f\"{end - start} s\")"
   ]
  },
  {
   "cell_type": "code",
   "execution_count": 16,
   "id": "8130b732",
   "metadata": {},
   "outputs": [],
   "source": [
    "# tricks 6 \n",
    "# f-string\n",
    "\n",
    "import timeit # kiểm tra thời gian chạy của đoạn code.\n"
   ]
  },
  {
   "cell_type": "code",
   "execution_count": null,
   "id": "dd90d0b2",
   "metadata": {},
   "outputs": [],
   "source": [
    "# tricks 7 chụp hình code đẹp\n",
    "# 1.extension: code snap\n",
    "# 2.web:ray.io"
   ]
  }
 ],
 "metadata": {
  "kernelspec": {
   "display_name": "Python 3",
   "language": "python",
   "name": "python3"
  },
  "language_info": {
   "codemirror_mode": {
    "name": "ipython",
    "version": 3
   },
   "file_extension": ".py",
   "mimetype": "text/x-python",
   "name": "python",
   "nbconvert_exporter": "python",
   "pygments_lexer": "ipython3",
   "version": "3.10.9"
  }
 },
 "nbformat": 4,
 "nbformat_minor": 5
}
