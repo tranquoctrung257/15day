{
 "cells": [
  {
   "cell_type": "markdown",
   "id": "41d9760b",
   "metadata": {},
   "source": [
    "if-else-elif."
   ]
  },
  {
   "cell_type": "code",
   "execution_count": 3,
   "id": "cbb96063",
   "metadata": {},
   "outputs": [
    {
     "name": "stdout",
     "output_type": "stream",
     "text": [
      "1 > 0\n"
     ]
    }
   ],
   "source": [
    "if 1 > 0:\n",
    "    print(\"1 > 0\")\n",
    "else:\n",
    "    print(\"1 <= 0\")"
   ]
  },
  {
   "cell_type": "code",
   "execution_count": 6,
   "id": "e62bb809",
   "metadata": {},
   "outputs": [
    {
     "name": "stdout",
     "output_type": "stream",
     "text": [
      "số 0\n"
     ]
    }
   ],
   "source": [
    "n = int(input(\"n = \"))\n",
    "\n",
    "if n > 0:\n",
    "    print(\"số dương.\")\n",
    "elif n < 0:\n",
    "    print(\"số âm\")\n",
    "else:\n",
    "    print(\"số 0\")"
   ]
  },
  {
   "cell_type": "code",
   "execution_count": null,
   "id": "4921a1bf",
   "metadata": {},
   "outputs": [],
   "source": []
  }
 ],
 "metadata": {
  "kernelspec": {
   "display_name": "Python 3",
   "language": "python",
   "name": "python3"
  },
  "language_info": {
   "codemirror_mode": {
    "name": "ipython",
    "version": 3
   },
   "file_extension": ".py",
   "mimetype": "text/x-python",
   "name": "python",
   "nbconvert_exporter": "python",
   "pygments_lexer": "ipython3",
   "version": "3.10.9"
  }
 },
 "nbformat": 4,
 "nbformat_minor": 5
}
