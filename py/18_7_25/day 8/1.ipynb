{
 "cells": [
  {
   "cell_type": "markdown",
   "id": "41d9760b",
   "metadata": {},
   "source": [
    "if-else-elif."
   ]
  },
  {
   "cell_type": "code",
   "execution_count": 3,
   "id": "cbb96063",
   "metadata": {},
   "outputs": [
    {
     "name": "stdout",
     "output_type": "stream",
     "text": [
      "1 > 0\n"
     ]
    }
   ],
   "source": [
    "if 1 > 0:\n",
    "    print(\"1 > 0\")\n",
    "else:\n",
    "    print(\"1 <= 0\")"
   ]
  },
  {
   "cell_type": "code",
   "execution_count": 6,
   "id": "e62bb809",
   "metadata": {},
   "outputs": [
    {
     "name": "stdout",
     "output_type": "stream",
     "text": [
      "số 0\n"
     ]
    }
   ],
   "source": [
    "n = int(input(\"n = \"))\n",
    "\n",
    "if n > 0:\n",
    "    print(\"số dương.\")\n",
    "elif n < 0:\n",
    "    print(\"số âm\")\n",
    "else:\n",
    "    print(\"số 0\")"
   ]
  },
  {
   "cell_type": "code",
   "execution_count": 1,
   "id": "4921a1bf",
   "metadata": {},
   "outputs": [
    {
     "ename": "NameError",
     "evalue": "name 'n' is not defined",
     "output_type": "error",
     "traceback": [
      "\u001b[1;31m---------------------------------------------------------------------------\u001b[0m",
      "\u001b[1;31mNameError\u001b[0m                                 Traceback (most recent call last)",
      "Cell \u001b[1;32mIn[1], line 4\u001b[0m\n\u001b[0;32m      1\u001b[0m \u001b[38;5;66;03m# kiểm tra một số có chia hết cho 3 hay không\u001b[39;00m\n\u001b[0;32m      2\u001b[0m \n\u001b[0;32m      3\u001b[0m \u001b[38;5;66;03m# shift + art + a # để ghi chú nhiều dòng\u001b[39;00m\n\u001b[1;32m----> 4\u001b[0m \u001b[38;5;28;01mif\u001b[39;00m \u001b[43mn\u001b[49m \u001b[38;5;241m%\u001b[39m \u001b[38;5;241m3\u001b[39m \u001b[38;5;241m==\u001b[39m \u001b[38;5;241m0\u001b[39m:\n\u001b[0;32m      5\u001b[0m     \u001b[38;5;28mprint\u001b[39m(\u001b[38;5;124m\"\u001b[39m\u001b[38;5;124mchia hết cho 3\u001b[39m\u001b[38;5;124m\"\u001b[39m)\n\u001b[0;32m      6\u001b[0m \u001b[38;5;28;01melse\u001b[39;00m:\n",
      "\u001b[1;31mNameError\u001b[0m: name 'n' is not defined"
     ]
    }
   ],
   "source": [
    "# kiểm tra một số có chia hết cho 3 hay không\n",
    "\n",
    "# shift + art + a # để ghi chú nhiều dòng\n",
    "if n % 3 == 0:\n",
    "    print(\"chia hết cho 3\")\n",
    "else:\n",
    "    print(\"không chia hết cho 3\")"
   ]
  },
  {
   "cell_type": "code",
   "execution_count": 3,
   "id": "15b59277",
   "metadata": {},
   "outputs": [
    {
     "name": "stdout",
     "output_type": "stream",
     "text": [
      "chia hết cho 3\n"
     ]
    }
   ],
   "source": [
    "# hoặc viết bằng if ngắn gọn.\n",
    "n = 3\n",
    "\n",
    "print(\"chia hết cho 3\" if n % 3 == 0 else \"n không chia hết cho 3\")"
   ]
  },
  {
   "cell_type": "code",
   "execution_count": 8,
   "id": "315582b7",
   "metadata": {},
   "outputs": [
    {
     "name": "stdout",
     "output_type": "stream",
     "text": [
      "10\n",
      "10\n",
      "10\n"
     ]
    }
   ],
   "source": [
    "# để in số lớn nhất trong 2 số.\n",
    "\n",
    "a = 10\n",
    "b = 5\n",
    "\n",
    "if a > b:\n",
    "    print(a)\n",
    "else:\n",
    "    print(b)\n",
    "\n",
    "# if rút gọn\n",
    "print(a if a>b else b)\n",
    "\n",
    "# hoặc sử dụng cách khác.\n",
    "\n",
    "max = a\n",
    "\n",
    "if b > a:\n",
    "    max = b\n",
    "print(max)"
   ]
  },
  {
   "cell_type": "code",
   "execution_count": null,
   "id": "b4548c80",
   "metadata": {},
   "outputs": [
    {
     "name": "stdout",
     "output_type": "stream",
     "text": [
      "6\n"
     ]
    }
   ],
   "source": [
    "# để nhập 2 số trên cùng 1 dòng tìm số nhỏ nhất\n",
    "a,b = map(int,input().split())\n",
    "print(b if a>b else a)"
   ]
  },
  {
   "cell_type": "code",
   "execution_count": null,
   "id": "90f9ac97",
   "metadata": {},
   "outputs": [
    {
     "name": "stdout",
     "output_type": "stream",
     "text": [
      "17\n",
      "[43]\n",
      "32\n"
     ]
    },
    {
     "ename": "NameError",
     "evalue": "name 'aa' is not defined",
     "output_type": "error",
     "traceback": [
      "\u001b[1;31m---------------------------------------------------------------------------\u001b[0m",
      "\u001b[1;31mNameError\u001b[0m                                 Traceback (most recent call last)",
      "Cell \u001b[1;32mIn[17], line 9\u001b[0m\n\u001b[0;32m      6\u001b[0m a \u001b[38;5;241m=\u001b[39m \u001b[38;5;241m3\u001b[39m\n\u001b[0;32m      7\u001b[0m \u001b[38;5;28mprint\u001b[39m(\u001b[38;5;28meval\u001b[39m(\u001b[38;5;124m\"\u001b[39m\u001b[38;5;124ma+29\u001b[39m\u001b[38;5;124m\"\u001b[39m))\n\u001b[1;32m----> 9\u001b[0m \u001b[38;5;28mprint\u001b[39m(\u001b[38;5;28;43meval\u001b[39;49m\u001b[43m(\u001b[49m\u001b[38;5;124;43m\"\u001b[39;49m\u001b[38;5;124;43maa\u001b[39;49m\u001b[38;5;124;43m\"\u001b[39;49m\u001b[43m)\u001b[49m)\n",
      "File \u001b[1;32m<string>:1\u001b[0m\n",
      "\u001b[1;31mNameError\u001b[0m: name 'aa' is not defined"
     ]
    }
   ],
   "source": [
    "# eval\n",
    "print(eval(\"1+2**4\"))\n",
    "lst = list(map(eval,input().split()))\n",
    "\n",
    "print(lst)\n",
    "a = 3\n",
    "print(eval(\"a+29\"))\n",
    "\n",
    "print(eval(\"aa\")) # nó hiểu aa trong là biến "
   ]
  },
  {
   "cell_type": "code",
   "execution_count": 14,
   "id": "d4bb1592",
   "metadata": {},
   "outputs": [
    {
     "name": "stdout",
     "output_type": "stream",
     "text": [
      "1 2 3 4\n",
      "1 2 3 4\n",
      "1-2-3-4\n"
     ]
    }
   ],
   "source": [
    "lst = [1,2,3,4]\n",
    "print(*lst) # phá vỡ ngoặc vuông bên ngoài và in ra giống dưới\n",
    "print(1,2,3,4)\n",
    "print(*lst,sep=\"-\")"
   ]
  },
  {
   "cell_type": "code",
   "execution_count": 29,
   "id": "98d68e20",
   "metadata": {},
   "outputs": [
    {
     "name": "stdout",
     "output_type": "stream",
     "text": [
      "2.46\n",
      "2\n",
      "2.46\n",
      "8\n",
      "[5, 4, 3, 2, 1, 0]\n",
      "97\n",
      "a\n",
      "['a', 'b', 'c', 'd', 'e']\n"
     ]
    }
   ],
   "source": [
    "# để làm tròn 2 số sau số thập phân\n",
    "x = 2.4567\n",
    "print(format(x,\".2f\"))\n",
    "print(round(x))\n",
    "print(round(x,2)) # làm tròn đến số nguyên gần nhất\n",
    "print(pow(2,3)) # hàm lũy thừa\n",
    "\n",
    "# hàm sorted trả về 1 list mới hoàn toàn.\n",
    "lst = [1,2,0,3,4,5]\n",
    "new_lst = sorted(lst,reverse=True)\n",
    "print(new_lst)\n",
    "\n",
    "print(ord(\"a\"))\n",
    "print(chr(97))\n",
    "s = \"abcde\"\n",
    "print(list(s))"
   ]
  },
  {
   "cell_type": "code",
   "execution_count": 30,
   "id": "d562bdcd",
   "metadata": {},
   "outputs": [
    {
     "name": "stdout",
     "output_type": "stream",
     "text": [
      "(1, 1)\n"
     ]
    }
   ],
   "source": [
    "# divmod trả về đầu tiền là thương thứ 2 là số dư\n",
    "print(divmod(4,3))"
   ]
  },
  {
   "cell_type": "code",
   "execution_count": 32,
   "id": "35e35e32",
   "metadata": {},
   "outputs": [
    {
     "name": "stdout",
     "output_type": "stream",
     "text": [
      "423332\n"
     ]
    }
   ],
   "source": [
    "# ví dụ\n",
    "s = \"0b423332\"\n",
    "# làm sao để bỏ đi 2 từ đầu 0b\n",
    "# ta sử dụng list slcing\n",
    "print(s[2:])"
   ]
  },
  {
   "cell_type": "code",
   "execution_count": null,
   "id": "8bc57d13",
   "metadata": {},
   "outputs": [],
   "source": []
  }
 ],
 "metadata": {
  "kernelspec": {
   "display_name": "Python 3",
   "language": "python",
   "name": "python3"
  },
  "language_info": {
   "codemirror_mode": {
    "name": "ipython",
    "version": 3
   },
   "file_extension": ".py",
   "mimetype": "text/x-python",
   "name": "python",
   "nbconvert_exporter": "python",
   "pygments_lexer": "ipython3",
   "version": "3.10.9"
  }
 },
 "nbformat": 4,
 "nbformat_minor": 5
}
