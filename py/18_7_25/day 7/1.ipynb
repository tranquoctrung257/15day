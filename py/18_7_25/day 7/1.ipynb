{
 "cells": [
  {
   "cell_type": "markdown",
   "id": "566150ae",
   "metadata": {},
   "source": [
    "+ Advanced Set.\n",
    "+ Dictionaty.\n",
    "+ sum,min,max,len,join,.."
   ]
  },
  {
   "cell_type": "code",
   "execution_count": null,
   "id": "84a4aa98",
   "metadata": {},
   "outputs": [
    {
     "name": "stdout",
     "output_type": "stream",
     "text": [
      "{2, 3}\n",
      "{2, 3}\n",
      "{1, 4}\n",
      "{1, 4}\n",
      "{10, -10}\n",
      "{10, -10}\n",
      "{1, 2, 3, 4, 10, -10}\n",
      "{1, 2, 3, 4, 10, -10}\n"
     ]
    }
   ],
   "source": [
    "set1 = {1,4,3,2}\n",
    "set2 = {2,3,10,-10}\n",
    "\n",
    "# để in ra phần chung của 2 set (giao)\n",
    "set3 = set1.intersection(set2) # phần set 2 truyền vào có thể là list có thể là tuple .., thoải mái\n",
    "print(set3)\n",
    "\n",
    "# hoặc sử dụng toán tử\n",
    "print(set1 & set2) #3 còn và thì cả 2 bên là set nếu không phải sẽ bị lỗi\n",
    "\n",
    "# để lấy phần tử nằm trong set 1 mà không nằm trong set 2\n",
    "set4 = set1.difference(set2)\n",
    "print(set4)\n",
    "\n",
    "# hoặc có thể sử dụng toán tử\n",
    "print(set1 - set2)\n",
    "\n",
    "# hoặc có thể viết ngược lại\n",
    "set5 = set2.difference(set1)\n",
    "print(set5)\n",
    "print(set2 - set1)\n",
    "\n",
    "\n",
    "# để lấy ra tất cả các phần tử trong các set\n",
    "set6 = set1.union(set2)\n",
    "print(set6)\n",
    "\n",
    "# hoặc có thể dùng toán tử \n",
    "print(set1 | set2) # dấu pipe"
   ]
  },
  {
   "cell_type": "code",
   "execution_count": 11,
   "id": "e632c9ed",
   "metadata": {},
   "outputs": [
    {
     "name": "stdout",
     "output_type": "stream",
     "text": [
      "{1, 2, 3, 4, 10, 11, 20, -10}\n",
      "{1, 2, 3, 4, 10, 11, 20, -10}\n"
     ]
    }
   ],
   "source": [
    "# hoặc có thể dùng trên 3 set\n",
    "set1 = {1,4,3,2}\n",
    "set2 = {2,3,10,-10}\n",
    "set3 = {10,11,20}\n",
    "\n",
    "set4 = set1.union(set2).union(set3)\n",
    "print(set4)\n",
    "print(set1 | set2 | set3)\n"
   ]
  },
  {
   "cell_type": "code",
   "execution_count": 12,
   "id": "09f31983",
   "metadata": {},
   "outputs": [
    {
     "name": "stdout",
     "output_type": "stream",
     "text": [
      "{1, 4, 10, -10}\n",
      "{1, 4, 10, -10}\n"
     ]
    }
   ],
   "source": [
    "# lấy ra tất cả phần tử nhưng trừ phần chung của cả 2\n",
    "set1 = {1,4,3,2}\n",
    "set2 = {2,3,10,-10}\n",
    "\n",
    "set3 = set1.symmetric_difference(set2)\n",
    "print(set3)\n",
    "\n",
    "print(set1 ^ set2)"
   ]
  },
  {
   "cell_type": "code",
   "execution_count": 19,
   "id": "c05c637a",
   "metadata": {},
   "outputs": [
    {
     "name": "stdout",
     "output_type": "stream",
     "text": [
      "{'Name': 'Bob', 'age': 23, 'grades': [45, 67, 90, 98, 99]}\n",
      "{\n",
      "    \"Name\": \"Bob\",\n",
      "    \"age\": 23,\n",
      "    \"grades\": [\n",
      "        45,\n",
      "        67,\n",
      "        90,\n",
      "        98,\n",
      "        99\n",
      "    ]\n",
      "}\n",
      "Bob\n",
      "None\n",
      "SV001\n"
     ]
    }
   ],
   "source": [
    "# + Dictionaty. là một cấu trúc dữ liệu để lưu trữ nhiều giá trị bên trong một biến. dict chứa {key:value}\n",
    "\n",
    "import json\n",
    "\n",
    "student = {\n",
    "    \"Name\":\"Bob\",\n",
    "    \"age\":23,\n",
    "    \"grades\":[45,67,90,98,99]\n",
    "}\n",
    "print(student)\n",
    "\n",
    "# để in ra đẹp hơn ta sử dụng module json\n",
    "# indent thụt lề\n",
    "print(json.dumps(student,indent=4))\n",
    "\n",
    "# để lấy ra một giá trị trong dict\n",
    "\n",
    "# để lấy ra một giá trị nào đó trong dict thì sử dụng key của nó. nếu key đó không tồn tại thì sẽ báo lỗi.\n",
    "value = student[\"Name\"]\n",
    "print(value)\n",
    "\n",
    "# hoặc cách 2\n",
    "value = student.get(\"id\")# nếu không tìm thấy giá trị sẽ trả về none\n",
    "print(value)\n",
    "\n",
    "value = student.get(\"id\",\"SV001\") # có thể mặc định bằng giá trị nào đó.\n",
    "print(value)"
   ]
  },
  {
   "cell_type": "code",
   "execution_count": 21,
   "id": "d8320e53",
   "metadata": {},
   "outputs": [
    {
     "name": "stdout",
     "output_type": "stream",
     "text": [
      "{'Name': 'Bob', 'age': 23, 'grades': [45, 67, 90, 98, 99], 'id': 'SV001'}\n",
      "{'Name': 'Jack', 'age': 23, 'grades': [45, 67, 90, 98, 99], 'id': 'SV001'}\n"
     ]
    }
   ],
   "source": [
    "student = {\n",
    "    \"Name\":\"Bob\",\n",
    "    \"age\":23,\n",
    "    \"grades\":[45,67,90,98,99]\n",
    "}\n",
    "\n",
    "# để in thêm phần tử mới trong dict\n",
    "student[\"id\"] = \"SV001\"\n",
    "print(student)\n",
    "\n",
    "# để update một giá trị trong dict\n",
    "student[\"Name\"] = \"Jack\"\n",
    "print(student)"
   ]
  },
  {
   "cell_type": "code",
   "execution_count": 29,
   "id": "e9a0242a",
   "metadata": {},
   "outputs": [
    {
     "name": "stdout",
     "output_type": "stream",
     "text": [
      "{'Name': 'Bob', 'age': 23, 'grades': [45, 67, 90, 98, 99], 'id': 'SV001'}\n",
      "{'Name': 'Bob', 'age': 23, 'grades': [45, 67, 90, 98, 99], 'id': 'SV001', 'gender': 'male'}\n",
      "{'Name': 'Bob', 'age': 23, 'grades': [45, 67, 90, 98, 99], 'id': 'SV001', 'gender': 'male'}\n",
      "{'Name': 'Bob', 'age': 23, 'grades': [45, 67, 90, 98, 99], 'id': 'SV001', 'gender': 'male'}\n",
      "Bob\n",
      "{'age': 23, 'grades': [45, 67, 90, 98, 99], 'id': 'SV001', 'gender': 'male'}\n",
      "{'grades': [45, 67, 90, 98, 99], 'id': 'SV001', 'gender': 'male'}\n",
      "('gender', 'male')\n",
      "{'grades': [45, 67, 90, 98, 99], 'id': 'SV001'}\n"
     ]
    }
   ],
   "source": [
    "# để update nhiều giá trị trong dict\n",
    "\n",
    "student = {\n",
    "    \"Name\":\"Bob\",\n",
    "    \"age\":23,\n",
    "    \"grades\":[45,67,90,98,99]\n",
    "}\n",
    "# update có 3 cách sài \n",
    "# cách 1. tạo ra cặp key value mới\n",
    "student.update(id = \"SV001\")\n",
    "print(student)\n",
    "\n",
    "# cách 2. # để thêm nhiều key vlues vào cuối dict\n",
    "student.update(id = \"SV001\",gender=\"male\")\n",
    "print(student)\n",
    "\n",
    "# cách 3. # sử dụng biến rồi update vào\n",
    "info = {\n",
    "    \"id\" : \"SV001\",\n",
    "    \"gender\":\"male\"\n",
    "}\n",
    "student.update(info)\n",
    "\n",
    "print(student)\n",
    "\n",
    "# hoặc có thể sử dụng list tuple\n",
    "info = [\n",
    "    (\"id\",\"SV001\"),\n",
    "    (\"gender\",\"male\")\n",
    " ]\n",
    "student.update(info)\n",
    "\n",
    "print(student)\n",
    "\n",
    "# để xóa cặp key nào đó sử dụng pop(key)\n",
    "values = student.pop(\"Name\")\n",
    "print(values)\n",
    "print(student)\n",
    "\n",
    "# cách thứ 2 sủ dụng del\n",
    "del student[\"age\"]\n",
    "print(student)\n",
    "\n",
    "# để xóa phần tử cuối và lưu lại\n",
    "tup = student.popitem()\n",
    "print(tup)\n",
    "print(student)"
   ]
  },
  {
   "cell_type": "code",
   "execution_count": 36,
   "id": "8d058c3b",
   "metadata": {},
   "outputs": [
    {
     "name": "stdout",
     "output_type": "stream",
     "text": [
      "['Name', 'age', 'grades']\n",
      "['Bob', 23, [45, 67, 90, 98, 99]]\n",
      "[('Name', 'Bob'), ('age', 23), ('grades', [45, 67, 90, 98, 99])]\n",
      "{}\n"
     ]
    }
   ],
   "source": [
    "# để biết dict thành list\n",
    "student = {\n",
    "    \"Name\":\"Bob\",\n",
    "    \"age\":23,\n",
    "    \"grades\":[45,67,90,98,99]\n",
    "}\n",
    "key = list(student) # lấy ra key\n",
    "values = list(student.values()) # để lấy ra tất cả values\n",
    "print(key)\n",
    "print(values)\n",
    "\n",
    "# để lấy ra key và values\n",
    "item = list(student.items())\n",
    "print(item)\n",
    "\n",
    "# để xóa tất cả dict\n",
    "student.clear()\n",
    "print(student)\n"
   ]
  },
  {
   "cell_type": "code",
   "execution_count": null,
   "id": "c00f65de",
   "metadata": {},
   "outputs": [
    {
     "name": "stdout",
     "output_type": "stream",
     "text": [
      "10\n",
      "20\n",
      "[0, 1, 2, 3, 4, 1, 2, 34]\n"
     ]
    }
   ],
   "source": [
    "# các hàm thường dùng \n",
    "# sum tính tổng\n",
    "lst = [1,2,3,4]\n",
    "print(sum(lst))\n",
    "\n",
    "# sum(biến,stat)\n",
    "\n",
    "print(sum(lst,10)) \n",
    "\n",
    "# hoặc 1 số mẹo khác\n",
    "lst = [[1,2,3,4],[1,2,34]]\n",
    "\n",
    "total = sum(lst,[0])\n",
    "print(total)\n",
    "\n"
   ]
  },
  {
   "cell_type": "code",
   "execution_count": null,
   "id": "d9734bcc",
   "metadata": {},
   "outputs": [
    {
     "name": "stdout",
     "output_type": "stream",
     "text": [
      "['a', 'b', 'c', 'd']\n"
     ]
    }
   ],
   "source": [
    "# len # chiều dài của 1 list nếu không có giá trị thì = 0\n",
    "lst = [\"a\",\"b\",\"c\",\"d\"]\n",
    "print(lst)\n",
    "\n"
   ]
  },
  {
   "cell_type": "code",
   "execution_count": 41,
   "id": "d0367596",
   "metadata": {},
   "outputs": [
    {
     "ename": "ValueError",
     "evalue": "min() arg is an empty sequence",
     "output_type": "error",
     "traceback": [
      "\u001b[1;31m---------------------------------------------------------------------------\u001b[0m",
      "\u001b[1;31mValueError\u001b[0m                                Traceback (most recent call last)",
      "Cell \u001b[1;32mIn[41], line 3\u001b[0m\n\u001b[0;32m      1\u001b[0m \u001b[38;5;66;03m# min max # sử dụng min max không được để list trống. nếu để sẽ báo lỗi\u001b[39;00m\n\u001b[0;32m      2\u001b[0m lst \u001b[38;5;241m=\u001b[39m []\n\u001b[1;32m----> 3\u001b[0m \u001b[38;5;28mprint\u001b[39m(\u001b[38;5;28;43mmin\u001b[39;49m\u001b[43m(\u001b[49m\u001b[43mlst\u001b[49m\u001b[43m)\u001b[49m)\n",
      "\u001b[1;31mValueError\u001b[0m: min() arg is an empty sequence"
     ]
    }
   ],
   "source": [
    "# min max # sử dụng min max không được để list trống. nếu để sẽ báo lỗi\n",
    "lst = []\n",
    "print(min(lst))"
   ]
  },
  {
   "cell_type": "code",
   "execution_count": 46,
   "id": "b925e1a0",
   "metadata": {},
   "outputs": [
    {
     "name": "stdout",
     "output_type": "stream",
     "text": [
      "4321\n",
      "4-3-2-1\n",
      "4321\n"
     ]
    }
   ],
   "source": [
    "# join #hàm nối cho chuỗi nếu sử dụng cho số sẽ báo lỗi.\n",
    "\n",
    "# hàm map để chuyển đổi kiểu dữ liệu\n",
    "# map(dữ liệu cần chuyển đổi,biến)\n",
    "\n",
    "lst = [4,3,2,1]\n",
    "s = ''.join(map(str,lst))\n",
    "print(s)\n",
    "s = '-'.join(map(str,lst))\n",
    "print(s)\n",
    "\n",
    "\n",
    "lst = [\"4\",\"3\",\"2\",\"1\"]\n",
    "s = ''.join(lst)\n",
    "print(s)"
   ]
  },
  {
   "cell_type": "code",
   "execution_count": 47,
   "id": "77870ba8",
   "metadata": {},
   "outputs": [
    {
     "ename": "TypeError",
     "evalue": "unsupported operand type(s) for +: 'int' and 'str'",
     "output_type": "error",
     "traceback": [
      "\u001b[1;31m---------------------------------------------------------------------------\u001b[0m",
      "\u001b[1;31mTypeError\u001b[0m                                 Traceback (most recent call last)",
      "Cell \u001b[1;32mIn[47], line 3\u001b[0m\n\u001b[0;32m      1\u001b[0m \u001b[38;5;66;03m# hàm sum chỉ sử dụng trên số\u001b[39;00m\n\u001b[0;32m      2\u001b[0m lst \u001b[38;5;241m=\u001b[39m [\u001b[38;5;124m\"\u001b[39m\u001b[38;5;124m2\u001b[39m\u001b[38;5;124m\"\u001b[39m,\u001b[38;5;124m\"\u001b[39m\u001b[38;5;124m3\u001b[39m\u001b[38;5;124m\"\u001b[39m]\n\u001b[1;32m----> 3\u001b[0m \u001b[38;5;28mprint\u001b[39m(\u001b[38;5;28;43msum\u001b[39;49m\u001b[43m(\u001b[49m\u001b[43mlst\u001b[49m\u001b[43m)\u001b[49m)\n",
      "\u001b[1;31mTypeError\u001b[0m: unsupported operand type(s) for +: 'int' and 'str'"
     ]
    }
   ],
   "source": [
    "# hàm sum chỉ sử dụng trên số\n",
    "lst = [\"2\",\"3\"]\n",
    "print(sum(lst))"
   ]
  },
  {
   "cell_type": "code",
   "execution_count": 48,
   "id": "f149a180",
   "metadata": {},
   "outputs": [
    {
     "name": "stdout",
     "output_type": "stream",
     "text": [
      "['1', '2', '3', '4', '5']\n"
     ]
    }
   ],
   "source": [
    "print(list(map(str,[1,2,3,4,5])))"
   ]
  },
  {
   "cell_type": "code",
   "execution_count": null,
   "id": "7ae79448",
   "metadata": {},
   "outputs": [],
   "source": []
  }
 ],
 "metadata": {
  "kernelspec": {
   "display_name": "Python 3",
   "language": "python",
   "name": "python3"
  },
  "language_info": {
   "codemirror_mode": {
    "name": "ipython",
    "version": 3
   },
   "file_extension": ".py",
   "mimetype": "text/x-python",
   "name": "python",
   "nbconvert_exporter": "python",
   "pygments_lexer": "ipython3",
   "version": "3.10.9"
  }
 },
 "nbformat": 4,
 "nbformat_minor": 5
}
