{
 "cells": [
  {
   "cell_type": "markdown",
   "id": "116216a6",
   "metadata": {},
   "source": [
    "1.List"
   ]
  },
  {
   "cell_type": "code",
   "execution_count": 8,
   "id": "b649a324",
   "metadata": {},
   "outputs": [
    {
     "name": "stdout",
     "output_type": "stream",
     "text": [
      "4\n",
      "4\n"
     ]
    }
   ],
   "source": [
    "#          0 1 2   3 \n",
    "numbers = [1,2,3.5,4]\n",
    "#         -4-3-2   -1 \n",
    "print(numbers[-1])\n",
    "print(numbers[3])"
   ]
  },
  {
   "cell_type": "code",
   "execution_count": 9,
   "id": "532578a8",
   "metadata": {},
   "outputs": [
    {
     "name": "stdout",
     "output_type": "stream",
     "text": [
      "[1, 2, 3.5, 4, 100]\n"
     ]
    }
   ],
   "source": [
    "# để thêm phần tử vào cuối danh sách\n",
    "numbers.append(100)\n",
    "print(numbers)"
   ]
  },
  {
   "cell_type": "code",
   "execution_count": 12,
   "id": "5e7f2b74",
   "metadata": {},
   "outputs": [
    {
     "name": "stdout",
     "output_type": "stream",
     "text": [
      "[2, 3, 4, 5, 1]\n",
      "[2, 3, 4, 5]\n"
     ]
    }
   ],
   "source": [
    "# ví dụ để xóa số 1 đầu tiên. phương thức remove sẽ xóa phần tử đầu tiên có giá trị bằng 1. nếu tiếp tục sử dụng remove sẽ tìm số 1 tiếp theo và xóa nó.\n",
    "# nếu không tìm thấy sẽ báo lỗi ValueError\n",
    "number = [1,2,3,4,5,1]\n",
    "number.remove(1)\n",
    "print(number)\n",
    "number.remove(1)\n",
    "print(number)"
   ]
  },
  {
   "cell_type": "code",
   "execution_count": 13,
   "id": "45b3a820",
   "metadata": {},
   "outputs": [
    {
     "name": "stdout",
     "output_type": "stream",
     "text": [
      "5\n",
      "[2, 3, 4]\n"
     ]
    }
   ],
   "source": [
    "# để lấy ra phần tử cuối cùng và lưu nó vào biến nào đó ta dùng phương thức pop\n",
    "# phương thức pop sẽ xóa phần tử cuối cùng trong danh sách và trả về giá trị\n",
    "last_value = number.pop()\n",
    "print(last_value)\n",
    "print(number)"
   ]
  },
  {
   "cell_type": "code",
   "execution_count": 18,
   "id": "31d83734",
   "metadata": {},
   "outputs": [
    {
     "name": "stdout",
     "output_type": "stream",
     "text": [
      "[12000, 3, 4, 100, 200, 300, 100, 200, 300]\n"
     ]
    }
   ],
   "source": [
    "# để thêm vào cuối list một list khác ta dùng extend\n",
    "number.extend([100,200,300])\n",
    "print(number)"
   ]
  },
  {
   "cell_type": "code",
   "execution_count": 17,
   "id": "5ba4b968",
   "metadata": {},
   "outputs": [
    {
     "name": "stdout",
     "output_type": "stream",
     "text": [
      "[1000, 3, 4, 100, 200, 300]\n",
      "[12000, 3, 4, 100, 200, 300]\n"
     ]
    }
   ],
   "source": [
    "# để thay đổi phần tử nào đó trong list ta dùng chỉ số của nó\n",
    "print(number)\n",
    "# ví dụ thay đổi phần tử đầu tiên\n",
    "number[0] = 12000\n",
    "print(number)"
   ]
  },
  {
   "cell_type": "code",
   "execution_count": null,
   "id": "d66d3a72",
   "metadata": {},
   "outputs": [],
   "source": [
    "# để đếm số lượng của giá trị 1 trong number \n",
    "# nếu truyền vào số không tồn tại sẽ báo là 0\n",
    "number = [1,2,3,4,45,1]\n",
    "amount = number.count(1)\n",
    "print(amount)\n",
    "\n",
    "# để xóa tất cả giá trị của list number thì sử dụng hàm clear\n",
    "number.clear()\n",
    "print(number)"
   ]
  },
  {
   "cell_type": "code",
   "execution_count": null,
   "id": "fd76dc07",
   "metadata": {},
   "outputs": [],
   "source": [
    "# để coi list có bao nhiêu giá trị. số lượng phần tử có trong list\n",
    "number = [1,2,3,4,45,1]\n",
    "print(len(number))"
   ]
  },
  {
   "cell_type": "code",
   "execution_count": null,
   "id": "106e7242",
   "metadata": {},
   "outputs": [],
   "source": [
    "# để in ra tất cả thuộc tính của list ta sử dụng hàm dir\n",
    "print(dir(list))"
   ]
  },
  {
   "cell_type": "code",
   "execution_count": null,
   "id": "dfc58bff",
   "metadata": {},
   "outputs": [],
   "source": [
    "# để thêm giá trị nào đó vào 1 vị trí nào đó ta dùng insert(vị trí,giá trị) các giá trị còn lại của trong list sẽ được đẩy về bên phải list.\n",
    "number = [1,2,3,4,45,1]\n",
    "print(number)\n",
    "number.insert(0,1000)\n",
    "print(number)\n",
    "\n",
    "number.insert(1000,10000)# nếu truyền vào vị trí lớn hơn vị trí đang có thì sẽ thêm vào cuối và ngược lại.\n",
    "print(number)"
   ]
  },
  {
   "cell_type": "code",
   "execution_count": 1,
   "id": "f590760c",
   "metadata": {},
   "outputs": [
    {
     "name": "stdout",
     "output_type": "stream",
     "text": [
      "2\n"
     ]
    },
    {
     "ename": "ValueError",
     "evalue": "1000 is not in list",
     "output_type": "error",
     "traceback": [
      "\u001b[1;31m---------------------------------------------------------------------------\u001b[0m",
      "\u001b[1;31mValueError\u001b[0m                                Traceback (most recent call last)",
      "Cell \u001b[1;32mIn[1], line 8\u001b[0m\n\u001b[0;32m      5\u001b[0m \u001b[38;5;28mprint\u001b[39m(number\u001b[38;5;241m.\u001b[39mindex(\u001b[38;5;241m3\u001b[39m))\n\u001b[0;32m      7\u001b[0m \u001b[38;5;66;03m# nếu truyền con số nằm ngoài thì sẽ báo lỗi\u001b[39;00m\n\u001b[1;32m----> 8\u001b[0m \u001b[38;5;28mprint\u001b[39m(\u001b[43mnumber\u001b[49m\u001b[38;5;241;43m.\u001b[39;49m\u001b[43mindex\u001b[49m\u001b[43m(\u001b[49m\u001b[38;5;241;43m1000\u001b[39;49m\u001b[43m)\u001b[49m)\n",
      "\u001b[1;31mValueError\u001b[0m: 1000 is not in list"
     ]
    }
   ],
   "source": [
    "# index để trả về chỉ số của một giá trị của hàm index\n",
    "# truyền vào giá trị trả về vị trí\n",
    "\n",
    "number = [1,2,3,4,45,1]\n",
    "print(number.index(3))\n",
    "\n",
    "# nếu truyền con số nằm ngoài thì sẽ báo lỗi\n",
    "print(number.index(1000))"
   ]
  },
  {
   "cell_type": "code",
   "execution_count": 2,
   "id": "f36694a2",
   "metadata": {},
   "outputs": [
    {
     "name": "stdout",
     "output_type": "stream",
     "text": [
      "[1, 45, 4, 3, 2, 1]\n"
     ]
    }
   ],
   "source": [
    "# hàm reverse để đảo ngược danh sách\n",
    "number = [1,2,3,4,45,1]\n",
    "number.reverse()\n",
    "print(number)"
   ]
  },
  {
   "cell_type": "code",
   "execution_count": null,
   "id": "cda03bf2",
   "metadata": {},
   "outputs": [],
   "source": [
    "# để sắp xết các kiểu dữ liệu cùng trong 1 list ( sắp xết từ bé đến lớn)\n",
    "number = [1,2,3,4,45,1]\n",
    "number.sort()\n",
    "print(number)"
   ]
  },
  {
   "cell_type": "code",
   "execution_count": null,
   "id": "683141fe",
   "metadata": {},
   "outputs": [],
   "source": [
    "# để sắp xết từ lớn đến bé\n",
    "number = [1,2,3,4.43,45,1.22]\n",
    "number.sort(reverse=True)\n",
    "print(number)"
   ]
  },
  {
   "cell_type": "code",
   "execution_count": 3,
   "id": "3a1e4e91",
   "metadata": {},
   "outputs": [
    {
     "name": "stdout",
     "output_type": "stream",
     "text": [
      "['Anna', 'John', 'Kenny', 'Henry']\n",
      "4\n",
      "['Anna', 'Jen', 'John', 'Kenny', 'Henry']\n",
      "Henry\n",
      "['Anna', 'Jen', 'John', 'Kenny']\n",
      "['Anna', 'Jen', 'Kenny']\n",
      "['Anna', 'Jen', 'Kenny', 'Jack']\n"
     ]
    }
   ],
   "source": [
    "# các ví dụ\n",
    "\n",
    "friends = [\"Jack\",\"John\",\"Kenny\",\"Henry\"]\n",
    "\n",
    "friends[0] = \"Anna\"\n",
    "print(friends)\n",
    "\n",
    "# để tìm ra số lượng của list\n",
    "print(len(friends))\n",
    "\n",
    "# để chèn vào vị trí thứ nhất Jen\n",
    "\n",
    "friends.insert(1,\"Jen\")\n",
    "print(friends)\n",
    "\n",
    "# để lấy ra giá trị cuối cùng và xóa đi.\n",
    "last = friends.pop()\n",
    "print(last)\n",
    "print(friends)\n",
    "\n",
    "# để xóa giá trị \"John\"\n",
    "friends.remove(\"john\".title())\n",
    "print(friends)\n",
    "\n",
    "# hoặc xóa đi John bằng cách truyền chỉ số\n",
    "# del friends[2]\n",
    "\n",
    "# để thêm danh sách những người bạn khác.\n",
    "friends.extend([\"Jack\"])\n",
    "print(friends)"
   ]
  },
  {
   "cell_type": "code",
   "execution_count": 4,
   "id": "d3bdb98b",
   "metadata": {},
   "outputs": [
    {
     "name": "stdout",
     "output_type": "stream",
     "text": [
      "67\n",
      "-100\n",
      "c\n"
     ]
    }
   ],
   "source": [
    "# để tìm giá trị lớn nhất trong 1 list\n",
    "number = [-100,2,3,4,5,67,7,45,23]\n",
    "print(max(number))\n",
    "# phải đảm bảo là kí tự hoặc số hàm max min với chạy còn nếu khác kiểu thì sẽ báo lỗi.\n",
    "# tìm giá trị nhỏ nhất\n",
    "print(min(number))\n",
    "\n",
    "# ví dụ\n",
    "lst = [\"a\",\"b\",\"c\"]\n",
    "print(max(lst))"
   ]
  },
  {
   "cell_type": "code",
   "execution_count": null,
   "id": "9d15f5b5",
   "metadata": {},
   "outputs": [],
   "source": []
  }
 ],
 "metadata": {
  "kernelspec": {
   "display_name": "Python 3",
   "language": "python",
   "name": "python3"
  },
  "language_info": {
   "codemirror_mode": {
    "name": "ipython",
    "version": 3
   },
   "file_extension": ".py",
   "mimetype": "text/x-python",
   "name": "python",
   "nbconvert_exporter": "python",
   "pygments_lexer": "ipython3",
   "version": "3.10.9"
  }
 },
 "nbformat": 4,
 "nbformat_minor": 5
}
