{
 "cells": [
  {
   "cell_type": "markdown",
   "id": "116216a6",
   "metadata": {},
   "source": [
    "1.List"
   ]
  },
  {
   "cell_type": "code",
   "execution_count": 8,
   "id": "b649a324",
   "metadata": {},
   "outputs": [
    {
     "name": "stdout",
     "output_type": "stream",
     "text": [
      "4\n",
      "4\n"
     ]
    }
   ],
   "source": [
    "#          0 1 2   3 \n",
    "numbers = [1,2,3.5,4]\n",
    "#         -4-3-2   -1 \n",
    "print(numbers[-1])\n",
    "print(numbers[3])"
   ]
  },
  {
   "cell_type": "code",
   "execution_count": 9,
   "id": "532578a8",
   "metadata": {},
   "outputs": [
    {
     "name": "stdout",
     "output_type": "stream",
     "text": [
      "[1, 2, 3.5, 4, 100]\n"
     ]
    }
   ],
   "source": [
    "# để thêm phần tử vào cuối danh sách\n",
    "numbers.append(100)\n",
    "print(numbers)"
   ]
  },
  {
   "cell_type": "code",
   "execution_count": 12,
   "id": "5e7f2b74",
   "metadata": {},
   "outputs": [
    {
     "name": "stdout",
     "output_type": "stream",
     "text": [
      "[2, 3, 4, 5, 1]\n",
      "[2, 3, 4, 5]\n"
     ]
    }
   ],
   "source": [
    "# ví dụ để xóa số 1 đầu tiên. phương thức remove sẽ xóa phần tử đầu tiên có giá trị bằng 1. nếu tiếp tục sử dụng remove sẽ tìm số 1 tiếp theo và xóa nó.\n",
    "# nếu không tìm thấy sẽ báo lỗi ValueError\n",
    "number = [1,2,3,4,5,1]\n",
    "number.remove(1)\n",
    "print(number)\n",
    "number.remove(1)\n",
    "print(number)"
   ]
  },
  {
   "cell_type": "code",
   "execution_count": 13,
   "id": "45b3a820",
   "metadata": {},
   "outputs": [
    {
     "name": "stdout",
     "output_type": "stream",
     "text": [
      "5\n",
      "[2, 3, 4]\n"
     ]
    }
   ],
   "source": [
    "# để lấy ra phần tử cuối cùng và lưu nó vào biến nào đó ta dùng phương thức pop\n",
    "# phương thức pop sẽ xóa phần tử cuối cùng trong danh sách và trả về giá trị\n",
    "last_value = number.pop()\n",
    "print(last_value)\n",
    "print(number)"
   ]
  },
  {
   "cell_type": "code",
   "execution_count": 18,
   "id": "31d83734",
   "metadata": {},
   "outputs": [
    {
     "name": "stdout",
     "output_type": "stream",
     "text": [
      "[12000, 3, 4, 100, 200, 300, 100, 200, 300]\n"
     ]
    }
   ],
   "source": [
    "# để thêm vào cuối list một list khác ta dùng extend\n",
    "number.extend([100,200,300])\n",
    "print(number)"
   ]
  },
  {
   "cell_type": "code",
   "execution_count": 17,
   "id": "5ba4b968",
   "metadata": {},
   "outputs": [
    {
     "name": "stdout",
     "output_type": "stream",
     "text": [
      "[1000, 3, 4, 100, 200, 300]\n",
      "[12000, 3, 4, 100, 200, 300]\n"
     ]
    }
   ],
   "source": [
    "# để thay đổi phần tử nào đó trong list ta dùng chỉ số của nó\n",
    "print(number)\n",
    "# ví dụ thay đổi phần tử đầu tiên\n",
    "number[0] = 12000\n",
    "print(number)"
   ]
  },
  {
   "cell_type": "code",
   "execution_count": null,
   "id": "59069915",
   "metadata": {},
   "outputs": [],
   "source": []
  }
 ],
 "metadata": {
  "kernelspec": {
   "display_name": "Python 3",
   "language": "python",
   "name": "python3"
  },
  "language_info": {
   "codemirror_mode": {
    "name": "ipython",
    "version": 3
   },
   "file_extension": ".py",
   "mimetype": "text/x-python",
   "name": "python",
   "nbconvert_exporter": "python",
   "pygments_lexer": "ipython3",
   "version": "3.10.9"
  }
 },
 "nbformat": 4,
 "nbformat_minor": 5
}
