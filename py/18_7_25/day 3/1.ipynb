{
 "cells": [
  {
   "cell_type": "markdown",
   "id": "ea56be70",
   "metadata": {},
   "source": [
    "1.Operators (toán tử).\n",
    "- toán tử số học: + - * / // ** %"
   ]
  },
  {
   "cell_type": "code",
   "execution_count": 6,
   "id": "3b7c3414",
   "metadata": {},
   "outputs": [
    {
     "name": "stdout",
     "output_type": "stream",
     "text": [
      "3\n",
      "-1\n",
      "2\n",
      "1.5\n",
      "1\n",
      "25\n",
      "1\n"
     ]
    }
   ],
   "source": [
    "print(1 + 2) # 3\n",
    "print(1 - 2) # -1\n",
    "print(1 * 2) # -2\n",
    "print(3 / 2) # float 1.5\n",
    "print(3 // 2) # int 1\n",
    "print(5 ** 2) # 5 ^ 2 = 25 \n",
    "print(3 % 2) # chia lấy phần dư 3 // 2 = 1"
   ]
  },
  {
   "cell_type": "markdown",
   "id": "bcc3700e",
   "metadata": {},
   "source": [
    "- Toán tử so sánh. > < >= <= == !=, True False"
   ]
  },
  {
   "cell_type": "code",
   "execution_count": 7,
   "id": "58d7e4a4",
   "metadata": {},
   "outputs": [
    {
     "name": "stdout",
     "output_type": "stream",
     "text": [
      "False\n",
      "False\n",
      "True\n"
     ]
    }
   ],
   "source": [
    "print(1>2) #False\n",
    "print(1<-1) # False\n",
    "print(3.0 == 3) # True"
   ]
  },
  {
   "cell_type": "markdown",
   "id": "1ea06a78",
   "metadata": {},
   "source": [
    "- and or not"
   ]
  },
  {
   "cell_type": "code",
   "execution_count": 10,
   "id": "fbc55331",
   "metadata": {},
   "outputs": [
    {
     "name": "stdout",
     "output_type": "stream",
     "text": [
      "True\n",
      "False\n",
      "True\n",
      "False\n"
     ]
    }
   ],
   "source": [
    "print(True and True) # True\n",
    "print(True and False) # False\n",
    "\n",
    "print(True or False) # True\n",
    "print(False or False) # False\n",
    "\n",
    "print(not True) # False\n",
    "print(not False) # True"
   ]
  },
  {
   "cell_type": "code",
   "execution_count": 13,
   "id": "e766596f",
   "metadata": {},
   "outputs": [
    {
     "name": "stdout",
     "output_type": "stream",
     "text": [
      "False\n",
      "False\n",
      "False\n",
      "False\n",
      "False\n",
      "False\n"
     ]
    }
   ],
   "source": [
    "# các giá trị falsy:\n",
    "# 0,0.0,0j,None: no value\n",
    "# bool(falsy) = False\n",
    "print(bool(0))\n",
    "print(bool(0.0))\n",
    "print(bool(0j))\n",
    "print(bool(None))\n",
    "print(bool([]))\n",
    "print(bool('')) # '' = \"\" empty string"
   ]
  },
  {
   "cell_type": "markdown",
   "id": "be1a16b5",
   "metadata": {},
   "source": [
    "- += -= *= **= /= //= %="
   ]
  },
  {
   "cell_type": "code",
   "execution_count": 16,
   "id": "5c3ec3d2",
   "metadata": {},
   "outputs": [
    {
     "name": "stdout",
     "output_type": "stream",
     "text": [
      "10\n",
      "1\n",
      "12\n"
     ]
    }
   ],
   "source": [
    "x = 5\n",
    "x += 5 # tương đương với x = x + 5\n",
    "print(x)\n",
    "x -= 9\n",
    "print(x)\n",
    "x *= 12\n",
    "print(x)"
   ]
  },
  {
   "cell_type": "code",
   "execution_count": 23,
   "id": "94472da6",
   "metadata": {},
   "outputs": [
    {
     "name": "stdout",
     "output_type": "stream",
     "text": [
      "I am 18\n",
      "I am 18\n",
      "I am 18\n"
     ]
    }
   ],
   "source": [
    "age = 18\n",
    "# I am 18 \n",
    "print(\"I am \" + str(18))\n",
    "# hoặc sử dụng f-string\n",
    "print(f\"I am {age}\")\n",
    "\n",
    "# hoặc\n",
    "print(\"I am {}\".format(age))"
   ]
  },
  {
   "cell_type": "markdown",
   "id": "54122f64",
   "metadata": {},
   "source": [
    "- Chuỗi"
   ]
  },
  {
   "cell_type": "code",
   "execution_count": null,
   "id": "0d28aa4b",
   "metadata": {},
   "outputs": [
    {
     "name": "stdout",
     "output_type": "stream",
     "text": [
      "HELLO WORLD\n",
      "hello world\n",
      "Hello World\n",
      "Hello world\n",
      "['Hello', 'world']\n"
     ]
    }
   ],
   "source": [
    "s = \"Hello world\"\n",
    "print(s.upper()) # Viết hoa tất cả\n",
    "print(s.lower()) # viết thường tất cả\n",
    "print(s.title()) # viết hoa chữ cái đầu tiên của mỗi từ\n",
    "print(s.capitalize()) # viết hoa chữ cái đầu\n",
    "\n",
    "new_string = s.split() # chia chuỗi s thành một list\n",
    "# nếu không truyền gì vào mặc định nó sẽ nhận dấu cách để tách các kí tự\n",
    "print(new_string)"
   ]
  }
 ],
 "metadata": {
  "kernelspec": {
   "display_name": "Python 3",
   "language": "python",
   "name": "python3"
  },
  "language_info": {
   "codemirror_mode": {
    "name": "ipython",
    "version": 3
   },
   "file_extension": ".py",
   "mimetype": "text/x-python",
   "name": "python",
   "nbconvert_exporter": "python",
   "pygments_lexer": "ipython3",
   "version": "3.10.9"
  }
 },
 "nbformat": 4,
 "nbformat_minor": 5
}
