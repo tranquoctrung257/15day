{
 "cells": [
  {
   "cell_type": "markdown",
   "id": "a2ee0594",
   "metadata": {},
   "source": [
    "Python functions"
   ]
  },
  {
   "cell_type": "code",
   "execution_count": null,
   "id": "66dd2352",
   "metadata": {},
   "outputs": [
    {
     "name": "stdout",
     "output_type": "stream",
     "text": [
      "hello world!\n",
      "hello\n"
     ]
    }
   ],
   "source": [
    "# def my_func(tham số):\n",
    "\n",
    "def my_func():\n",
    "    print(\"hello world!\")\n",
    "\n",
    "my_func()\n",
    "\n",
    "def my_func(msg):\n",
    "    print(msg)\n",
    "\n",
    "my_func(\"hello\") # cách 1 truyền vào đối số vị trí.\n"
   ]
  },
  {
   "cell_type": "code",
   "execution_count": 3,
   "id": "498aa588",
   "metadata": {},
   "outputs": [
    {
     "name": "stdout",
     "output_type": "stream",
     "text": [
      "John Doe\n"
     ]
    }
   ],
   "source": [
    "def show_full_name(fname,lname):\n",
    "    print(f\"{fname} {lname}\")\n",
    "\n",
    "# show_full_name(đối số thứ nhất,đối số thứ 2)\n",
    "show_full_name(\"John\",\"Doe\")   "
   ]
  },
  {
   "cell_type": "code",
   "execution_count": 4,
   "id": "86a5aaf8",
   "metadata": {},
   "outputs": [
    {
     "ename": "TypeError",
     "evalue": "show_full_name() missing 1 required positional argument: 'lname'",
     "output_type": "error",
     "traceback": [
      "\u001b[1;31m---------------------------------------------------------------------------\u001b[0m",
      "\u001b[1;31mTypeError\u001b[0m                                 Traceback (most recent call last)",
      "Cell \u001b[1;32mIn[4], line 5\u001b[0m\n\u001b[0;32m      2\u001b[0m     \u001b[38;5;28mprint\u001b[39m(\u001b[38;5;124mf\u001b[39m\u001b[38;5;124m\"\u001b[39m\u001b[38;5;132;01m{\u001b[39;00mfname\u001b[38;5;132;01m}\u001b[39;00m\u001b[38;5;124m \u001b[39m\u001b[38;5;132;01m{\u001b[39;00mlname\u001b[38;5;132;01m}\u001b[39;00m\u001b[38;5;124m\"\u001b[39m)\n\u001b[0;32m      4\u001b[0m \u001b[38;5;66;03m# lỗi vì thiếu 1 đối số vị vị trí\u001b[39;00m\n\u001b[1;32m----> 5\u001b[0m \u001b[43mshow_full_name\u001b[49m\u001b[43m(\u001b[49m\u001b[38;5;124;43m\"\u001b[39;49m\u001b[38;5;124;43mJohn\u001b[39;49m\u001b[38;5;124;43m\"\u001b[39;49m\u001b[43m)\u001b[49m   \n",
      "\u001b[1;31mTypeError\u001b[0m: show_full_name() missing 1 required positional argument: 'lname'"
     ]
    }
   ],
   "source": [
    "def show_full_name(fname,lname):\n",
    "    print(f\"{fname} {lname}\")\n",
    "\n",
    "# lỗi vì thiếu 1 đối số vị vị trí\n",
    "show_full_name(\"John\")   "
   ]
  },
  {
   "cell_type": "code",
   "execution_count": 6,
   "id": "9977acc7",
   "metadata": {},
   "outputs": [
    {
     "ename": "TypeError",
     "evalue": "show_full_name() takes 2 positional arguments but 3 were given",
     "output_type": "error",
     "traceback": [
      "\u001b[1;31m---------------------------------------------------------------------------\u001b[0m",
      "\u001b[1;31mTypeError\u001b[0m                                 Traceback (most recent call last)",
      "Cell \u001b[1;32mIn[6], line 5\u001b[0m\n\u001b[0;32m      2\u001b[0m     \u001b[38;5;28mprint\u001b[39m(\u001b[38;5;124mf\u001b[39m\u001b[38;5;124m\"\u001b[39m\u001b[38;5;132;01m{\u001b[39;00mfname\u001b[38;5;132;01m}\u001b[39;00m\u001b[38;5;124m \u001b[39m\u001b[38;5;132;01m{\u001b[39;00mlname\u001b[38;5;132;01m}\u001b[39;00m\u001b[38;5;124m\"\u001b[39m)\n\u001b[0;32m      4\u001b[0m \u001b[38;5;66;03m# lỗi vì thừa\u001b[39;00m\n\u001b[1;32m----> 5\u001b[0m \u001b[43mshow_full_name\u001b[49m\u001b[43m(\u001b[49m\u001b[38;5;124;43m\"\u001b[39;49m\u001b[38;5;124;43mJohn\u001b[39;49m\u001b[38;5;124;43m\"\u001b[39;49m\u001b[43m,\u001b[49m\u001b[38;5;124;43m\"\u001b[39;49m\u001b[38;5;124;43mDoe\u001b[39;49m\u001b[38;5;124;43m\"\u001b[39;49m\u001b[43m,\u001b[49m\u001b[38;5;241;43m1\u001b[39;49m\u001b[43m)\u001b[49m  \n",
      "\u001b[1;31mTypeError\u001b[0m: show_full_name() takes 2 positional arguments but 3 were given"
     ]
    }
   ],
   "source": [
    "def show_full_name(fname,lname):\n",
    "    print(f\"{fname} {lname}\")\n",
    "\n",
    "# lỗi vì thừa\n",
    "show_full_name(\"John\",\"Doe\",1)  "
   ]
  },
  {
   "cell_type": "code",
   "execution_count": 7,
   "id": "ef40ff6d",
   "metadata": {},
   "outputs": [
    {
     "name": "stdout",
     "output_type": "stream",
     "text": [
      "John Doe\n"
     ]
    }
   ],
   "source": [
    "def show_full_name(fname,lname=\"Doe\"):\n",
    "    print(f\"{fname} {lname}\")\n",
    "\n",
    "# chạy bth vì đã có tham số lname mặc định rồi\n",
    "show_full_name(\"John\")  "
   ]
  },
  {
   "cell_type": "code",
   "execution_count": null,
   "id": "7568cf8a",
   "metadata": {},
   "outputs": [
    {
     "name": "stdout",
     "output_type": "stream",
     "text": [
      "John Doe\n"
     ]
    }
   ],
   "source": [
    "def show_full_name(fname,lname=\"Doe\"):\n",
    "    return f\"{fname} {lname}\"\n",
    "\n",
    "full_name = show_full_name(\"John\")  \n",
    "print(full_name)"
   ]
  },
  {
   "cell_type": "code",
   "execution_count": 9,
   "id": "f329afdc",
   "metadata": {},
   "outputs": [
    {
     "name": "stdout",
     "output_type": "stream",
     "text": [
      "John Doe\n"
     ]
    }
   ],
   "source": [
    "def show_full_name(fname,lname=\"Doe\"):\n",
    "    return f\"{fname} {lname}\"\n",
    "    return 0 # return này sẽ không được chạy\n",
    "\n",
    "# khi gặp câu lệnh return hàm sẽ chấm dứt hoàn toàn khi gặp nó\n",
    "full_name = show_full_name(\"John\")  \n",
    "print(full_name)"
   ]
  },
  {
   "cell_type": "code",
   "execution_count": null,
   "id": "f61d6592",
   "metadata": {},
   "outputs": [
    {
     "name": "stdout",
     "output_type": "stream",
     "text": [
      "Kenny Doe\n"
     ]
    }
   ],
   "source": [
    "def show_full_name(fname,lname=\"Doe\"):\n",
    "    if fname: # if rỗng | if rỗng ra false\n",
    "        return f\"{fname} {lname}\"\n",
    "    # else: không cần đặt else ở đây vì hàm chỉ cần chạm đế return sẽ dừng.\n",
    "    return f\"Kenny {lname}\"\n",
    "\n",
    "\n",
    "# theo chuẩn pep8 khi tạo hàm kết thúc hàm phải có 2 dòng trống \n",
    "# khi gặp câu lệnh return hàm sẽ chấm dứt hoàn toàn khi gặp nó\n",
    "full_name = show_full_name(\"\")  \n",
    "print(full_name)"
   ]
  },
  {
   "cell_type": "code",
   "execution_count": null,
   "id": "8dc969ae",
   "metadata": {},
   "outputs": [
    {
     "name": "stdout",
     "output_type": "stream",
     "text": [
      "Joe Jelly\n"
     ]
    }
   ],
   "source": [
    "def show_full_name(fname,lname=\"Doe\"):\n",
    "    if fname: # if rỗng | if rỗng ra false\n",
    "        return f\"{fname} {lname}\"\n",
    "    return f\"Kenny {lname}\"\n",
    "\n",
    "# truyền vào đối số có tên\n",
    "full_name = show_full_name(lname=\"Jelly\",fname=\"Joe\")  \n",
    "print(full_name)"
   ]
  },
  {
   "cell_type": "code",
   "execution_count": 19,
   "id": "6516d8aa",
   "metadata": {},
   "outputs": [
    {
     "name": "stdout",
     "output_type": "stream",
     "text": [
      "Joe Jelly\n"
     ]
    }
   ],
   "source": [
    "# python chạy từ trên xuống dưới nên show_full_name() chưa được định nghĩa | phải định nghĩa hàm trước sau đó mới gọi\n",
    "\n",
    "full_name = show_full_name(lname=\"Jelly\",fname=\"Joe\")  \n",
    "print(full_name)\n",
    "\n",
    "def show_full_name(fname,lname=\"Doe\"):\n",
    "    if fname: \n",
    "        return f\"{fname} {lname}\"\n",
    "    return f\"Kenny {lname}\""
   ]
  },
  {
   "cell_type": "code",
   "execution_count": 20,
   "id": "20bc0a6e",
   "metadata": {},
   "outputs": [
    {
     "name": "stdout",
     "output_type": "stream",
     "text": [
      "30\n"
     ]
    }
   ],
   "source": [
    "def add(x,y):\n",
    "    return x+y\n",
    "print(add(10,20))"
   ]
  },
  {
   "cell_type": "code",
   "execution_count": null,
   "id": "039240ab",
   "metadata": {},
   "outputs": [
    {
     "name": "stdout",
     "output_type": "stream",
     "text": [
      "[2]\n",
      "[2, 2]\n"
     ]
    }
   ],
   "source": [
    "def func(lst=[]): # tránh sử dụng giá trị có thể thay đổi cho tham số mặc định. \n",
    "    lst.append(2)\n",
    "    print(lst)\n",
    "func()\n",
    "func()"
   ]
  },
  {
   "cell_type": "code",
   "execution_count": null,
   "id": "c73ad851",
   "metadata": {},
   "outputs": [
    {
     "ename": "UnboundLocalError",
     "evalue": "local variable 'friends' referenced before assignment",
     "output_type": "error",
     "traceback": [
      "\u001b[1;31m---------------------------------------------------------------------------\u001b[0m",
      "\u001b[1;31mUnboundLocalError\u001b[0m                         Traceback (most recent call last)",
      "Cell \u001b[1;32mIn[23], line 7\u001b[0m\n\u001b[0;32m      4\u001b[0m     friends \u001b[38;5;241m=\u001b[39m friends \u001b[38;5;241m+\u001b[39m [\u001b[38;5;124m\"\u001b[39m\u001b[38;5;124mJoe\u001b[39m\u001b[38;5;124m\"\u001b[39m]\n\u001b[0;32m      5\u001b[0m     \u001b[38;5;28mprint\u001b[39m(friends)\n\u001b[1;32m----> 7\u001b[0m \u001b[43mmy_func\u001b[49m\u001b[43m(\u001b[49m\u001b[43m)\u001b[49m\n\u001b[0;32m      9\u001b[0m \u001b[38;5;66;03m# local variable 'friends' referenced before assignment \u001b[39;00m\n",
      "Cell \u001b[1;32mIn[23], line 4\u001b[0m, in \u001b[0;36mmy_func\u001b[1;34m()\u001b[0m\n\u001b[0;32m      3\u001b[0m \u001b[38;5;28;01mdef\u001b[39;00m\u001b[38;5;250m \u001b[39m\u001b[38;5;21mmy_func\u001b[39m():\n\u001b[1;32m----> 4\u001b[0m     friends \u001b[38;5;241m=\u001b[39m \u001b[43mfriends\u001b[49m \u001b[38;5;241m+\u001b[39m [\u001b[38;5;124m\"\u001b[39m\u001b[38;5;124mJoe\u001b[39m\u001b[38;5;124m\"\u001b[39m]\n\u001b[0;32m      5\u001b[0m     \u001b[38;5;28mprint\u001b[39m(friends)\n",
      "\u001b[1;31mUnboundLocalError\u001b[0m: local variable 'friends' referenced before assignment"
     ]
    }
   ],
   "source": [
    "friends = [\"kenny\",\"Bob\",\"Jen\"]\n",
    "\n",
    "def my_func():\n",
    "    friends = friends + [\"Joe\"]\n",
    "    print(friends)\n",
    "\n",
    "my_func()\n",
    "\n",
    "# local variable 'friends' referenced before assignment \n",
    "# lỗi vì UnboundLocalError biến cục bộ( nằm trong hàm) , biến toàn cục nằm bên ngoài hàm nằm trong file.\n",
    "# nếu chạy biến cục bộ thì chạy xong sẽ mất biến đó biến đó được thu hồi lại về ram\n",
    "# lỗi này là ta đang tham chiếu với friends bên phải mà đang tạo ra friends bên trái cho nên nó sẽ bị lỗi.\n",
    "# ở trên friends đặt tên trùng ở đầu thì nó sễ là friends cục bộ bên trong hàm my_func chứ không phải friends bên ngoài hàm\n",
    "# tóm lại nó đang tham chiếu trong khi nó đang được tạo ra "
   ]
  },
  {
   "cell_type": "code",
   "execution_count": null,
   "id": "1a8dc16f",
   "metadata": {},
   "outputs": [
    {
     "name": "stdout",
     "output_type": "stream",
     "text": [
      "['kenny', 'Bob', 'Jen', 'Joe']\n"
     ]
    }
   ],
   "source": [
    "# để khắc phục lỗi này thì ta đổi biến . bên vế bên phải nếu không thấy friends trong hàm sẽ đi ra ngoài biến toàn cục tìm và trả về kết quả.\n",
    "friends = [\"kenny\",\"Bob\",\"Jen\"]\n",
    "\n",
    "def my_func():\n",
    "    f = friends + [\"Joe\"]\n",
    "    print(f)\n",
    "\n",
    "my_func()"
   ]
  },
  {
   "cell_type": "code",
   "execution_count": 26,
   "id": "2b1221c4",
   "metadata": {},
   "outputs": [
    {
     "name": "stdout",
     "output_type": "stream",
     "text": [
      "6\n",
      "6\n"
     ]
    }
   ],
   "source": [
    "# hàm không có tên lambda functions thực hiện những phép toán ngắn gọn\n",
    "# lambda danh sách tham số: giá trị trả về.\n",
    "\n",
    "print((lambda x,y: x+y)(2,4))\n",
    "\n",
    "# hoặc gán cho nó 1 biến khác.\n",
    "add = lambda x,y: x+y\n",
    "print(add(2,4)) \n"
   ]
  },
  {
   "cell_type": "code",
   "execution_count": null,
   "id": "fd8d1b36",
   "metadata": {},
   "outputs": [
    {
     "name": "stdout",
     "output_type": "stream",
     "text": [
      "Hello Jen\n"
     ]
    }
   ],
   "source": [
    "# f class functions\n",
    "\n",
    "# là hàm nhận vào 1 hàm khác | 1 cái hàm gắn vào 1 biến khác\n",
    "\n",
    "def greet(msg):\n",
    "    print(\"Hello \"+msg)\n",
    "    # return None tất cả các hàm có giá trị mặc định trả về là None\n",
    "hello = greet # khi chạy hello đang giữ tham chiếu đến hàm greet cx như gọi greet\n",
    "hello(\"Jen\")\n",
    "\n",
    "def my_func():\n",
    "    print(\"Hello\")\n",
    "\n",
    "my_func()\n",
    "print(my_func())\n",
    "\n",
    "print(print(5))\n",
    "\n"
   ]
  },
  {
   "cell_type": "code",
   "execution_count": 3,
   "id": "9796f1f1",
   "metadata": {},
   "outputs": [],
   "source": [
    "def func():\n",
    "    pass # từ pass ở đây thêm vào để khi chạy nó sẽ không bị lỗi vì ở dưới hàm không có dòng code nào.\n"
   ]
  },
  {
   "cell_type": "code",
   "execution_count": null,
   "id": "808e8896",
   "metadata": {},
   "outputs": [
    {
     "name": "stdout",
     "output_type": "stream",
     "text": [
      "10\n",
      "<class 'tuple'>\n",
      "10\n",
      "4 3 2 1\n",
      "2\n",
      "[10, 4, 6]\n",
      "7\n"
     ]
    }
   ],
   "source": [
    "# toán tử *args\n",
    "\n",
    "def add(x,y,z,t):\n",
    "    return x + y + z + t\n",
    "print(add(1,2,3,4))\n",
    "\n",
    "# *args trong gọi hàm \n",
    "def add(*args): # tập hợp các đối số vị trí (đối số không có tên) tạo thành tuple\n",
    "    print(type(args))\n",
    "    return sum(args)\n",
    "print(add(1,2,3,4))\n",
    "\n",
    "lst = [4,3,2,1]\n",
    "print(*lst) # *args trong lời gọi hàm\n",
    "\n",
    "# in ra đầu giữa cuối\n",
    "lst = [2,10,4,6,7]\n",
    "first,*mid,last = lst \n",
    "print(first)\n",
    "print(mid)\n",
    "print(last)"
   ]
  },
  {
   "cell_type": "code",
   "execution_count": 9,
   "id": "a7437a77",
   "metadata": {},
   "outputs": [
    {
     "name": "stdout",
     "output_type": "stream",
     "text": [
      "[2, 10, 4, 6]\n",
      "7\n"
     ]
    }
   ],
   "source": [
    "lst = [2,10,4,6,7]\n",
    "*mid,last = lst \n",
    "print(mid)\n",
    "print(last)"
   ]
  },
  {
   "cell_type": "code",
   "execution_count": 10,
   "id": "8d0fe2a3",
   "metadata": {},
   "outputs": [
    {
     "ename": "SyntaxError",
     "evalue": "multiple starred expressions in assignment (3441091284.py, line 2)",
     "output_type": "error",
     "traceback": [
      "\u001b[1;36m  Cell \u001b[1;32mIn[10], line 2\u001b[1;36m\u001b[0m\n\u001b[1;33m    *mid,*last = lst # chỉ được 1 dấu sao trong một phép gán.\u001b[0m\n\u001b[1;37m    ^\u001b[0m\n\u001b[1;31mSyntaxError\u001b[0m\u001b[1;31m:\u001b[0m multiple starred expressions in assignment\n"
     ]
    }
   ],
   "source": [
    "lst = [2,10,4,6,7]\n",
    "*mid,*last = lst # chỉ được 1 dấu sao trong một phép gán.\n",
    "print(mid)\n",
    "print(last)"
   ]
  },
  {
   "cell_type": "code",
   "execution_count": null,
   "id": "974e716e",
   "metadata": {},
   "outputs": [
    {
     "name": "stdout",
     "output_type": "stream",
     "text": [
      "15\n"
     ]
    }
   ],
   "source": [
    "def add(*lst,operation):\n",
    "    return operation(lst)\n",
    "\n",
    "# print(add(1,2,3,4,sum)) # sẽ báo lỗi vì * lst sẽ gom hết về 1 đối số vị trí rồi\n",
    "# sửa lại\n",
    "print(add(1,2,3,4,5,operation=sum)) # sum ở đây là hàm được gán cho operation"
   ]
  },
  {
   "cell_type": "code",
   "execution_count": 17,
   "id": "c4aabde9",
   "metadata": {},
   "outputs": [
    {
     "name": "stdout",
     "output_type": "stream",
     "text": [
      "[[], [], [], [], []]\n",
      "[[2], [2], [2], [2], [2]]\n",
      "[[], [2], [], [], []]\n"
     ]
    }
   ],
   "source": [
    "\n",
    "lst = [[]] * 5 # không nên nhân 1 số với 1 list | ban đầu sẽ tạo ra oj của list ở trong ram sau đó tạo ra 5 tham chiếu lst[0] lst[1] lst[2] ... trỏ đến oj ngoặc vuông bên trong ngoặc vuông \n",
    "print(lst)\n",
    "lst[1].append(2) # thay đổi tham chiếu thì tất cả tham chiếu đều bị ảnh hưởng\n",
    "print(lst)\n",
    "\n",
    "# cách khác phục \n",
    "lst = [[] for _ in range(5)]\n",
    "lst[1].append(2) \n",
    "print(lst)"
   ]
  },
  {
   "cell_type": "code",
   "execution_count": 18,
   "id": "2dafd256",
   "metadata": {},
   "outputs": [
    {
     "ename": "SyntaxError",
     "evalue": "non-default argument follows default argument (1273409890.py, line 2)",
     "output_type": "error",
     "traceback": [
      "\u001b[1;36m  Cell \u001b[1;32mIn[18], line 2\u001b[1;36m\u001b[0m\n\u001b[1;33m    def func(a=2,b):\u001b[0m\n\u001b[1;37m                 ^\u001b[0m\n\u001b[1;31mSyntaxError\u001b[0m\u001b[1;31m:\u001b[0m non-default argument follows default argument\n"
     ]
    }
   ],
   "source": [
    "# các tham số mặc định luôn được định nghĩa ở cuối cùng.\n",
    "def func(a=2,b):\n",
    "    pass"
   ]
  },
  {
   "cell_type": "code",
   "execution_count": null,
   "id": "09365515",
   "metadata": {},
   "outputs": [],
   "source": []
  }
 ],
 "metadata": {
  "kernelspec": {
   "display_name": "Python 3",
   "language": "python",
   "name": "python3"
  },
  "language_info": {
   "codemirror_mode": {
    "name": "ipython",
    "version": 3
   },
   "file_extension": ".py",
   "mimetype": "text/x-python",
   "name": "python",
   "nbconvert_exporter": "python",
   "pygments_lexer": "ipython3",
   "version": "3.10.9"
  }
 },
 "nbformat": 4,
 "nbformat_minor": 5
}
