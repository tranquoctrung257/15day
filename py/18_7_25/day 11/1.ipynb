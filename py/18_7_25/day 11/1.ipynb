{
 "cells": [
  {
   "cell_type": "markdown",
   "id": "a2ee0594",
   "metadata": {},
   "source": [
    "Python functions"
   ]
  },
  {
   "cell_type": "code",
   "execution_count": null,
   "id": "66dd2352",
   "metadata": {},
   "outputs": [
    {
     "name": "stdout",
     "output_type": "stream",
     "text": [
      "hello world!\n",
      "hello\n"
     ]
    }
   ],
   "source": [
    "# def my_func(tham số):\n",
    "\n",
    "def my_func():\n",
    "    print(\"hello world!\")\n",
    "\n",
    "my_func()\n",
    "\n",
    "def my_func(msg):\n",
    "    print(msg)\n",
    "\n",
    "my_func(\"hello\") # cách 1 truyền vào đối số vị trí.\n"
   ]
  },
  {
   "cell_type": "code",
   "execution_count": 3,
   "id": "498aa588",
   "metadata": {},
   "outputs": [
    {
     "name": "stdout",
     "output_type": "stream",
     "text": [
      "John Doe\n"
     ]
    }
   ],
   "source": [
    "def show_full_name(fname,lname):\n",
    "    print(f\"{fname} {lname}\")\n",
    "\n",
    "# show_full_name(đối số thứ nhất,đối số thứ 2)\n",
    "show_full_name(\"John\",\"Doe\")   "
   ]
  },
  {
   "cell_type": "code",
   "execution_count": 4,
   "id": "86a5aaf8",
   "metadata": {},
   "outputs": [
    {
     "ename": "TypeError",
     "evalue": "show_full_name() missing 1 required positional argument: 'lname'",
     "output_type": "error",
     "traceback": [
      "\u001b[1;31m---------------------------------------------------------------------------\u001b[0m",
      "\u001b[1;31mTypeError\u001b[0m                                 Traceback (most recent call last)",
      "Cell \u001b[1;32mIn[4], line 5\u001b[0m\n\u001b[0;32m      2\u001b[0m     \u001b[38;5;28mprint\u001b[39m(\u001b[38;5;124mf\u001b[39m\u001b[38;5;124m\"\u001b[39m\u001b[38;5;132;01m{\u001b[39;00mfname\u001b[38;5;132;01m}\u001b[39;00m\u001b[38;5;124m \u001b[39m\u001b[38;5;132;01m{\u001b[39;00mlname\u001b[38;5;132;01m}\u001b[39;00m\u001b[38;5;124m\"\u001b[39m)\n\u001b[0;32m      4\u001b[0m \u001b[38;5;66;03m# lỗi vì thiếu 1 đối số vị vị trí\u001b[39;00m\n\u001b[1;32m----> 5\u001b[0m \u001b[43mshow_full_name\u001b[49m\u001b[43m(\u001b[49m\u001b[38;5;124;43m\"\u001b[39;49m\u001b[38;5;124;43mJohn\u001b[39;49m\u001b[38;5;124;43m\"\u001b[39;49m\u001b[43m)\u001b[49m   \n",
      "\u001b[1;31mTypeError\u001b[0m: show_full_name() missing 1 required positional argument: 'lname'"
     ]
    }
   ],
   "source": [
    "def show_full_name(fname,lname):\n",
    "    print(f\"{fname} {lname}\")\n",
    "\n",
    "# lỗi vì thiếu 1 đối số vị vị trí\n",
    "show_full_name(\"John\")   "
   ]
  },
  {
   "cell_type": "code",
   "execution_count": 6,
   "id": "9977acc7",
   "metadata": {},
   "outputs": [
    {
     "ename": "TypeError",
     "evalue": "show_full_name() takes 2 positional arguments but 3 were given",
     "output_type": "error",
     "traceback": [
      "\u001b[1;31m---------------------------------------------------------------------------\u001b[0m",
      "\u001b[1;31mTypeError\u001b[0m                                 Traceback (most recent call last)",
      "Cell \u001b[1;32mIn[6], line 5\u001b[0m\n\u001b[0;32m      2\u001b[0m     \u001b[38;5;28mprint\u001b[39m(\u001b[38;5;124mf\u001b[39m\u001b[38;5;124m\"\u001b[39m\u001b[38;5;132;01m{\u001b[39;00mfname\u001b[38;5;132;01m}\u001b[39;00m\u001b[38;5;124m \u001b[39m\u001b[38;5;132;01m{\u001b[39;00mlname\u001b[38;5;132;01m}\u001b[39;00m\u001b[38;5;124m\"\u001b[39m)\n\u001b[0;32m      4\u001b[0m \u001b[38;5;66;03m# lỗi vì thừa\u001b[39;00m\n\u001b[1;32m----> 5\u001b[0m \u001b[43mshow_full_name\u001b[49m\u001b[43m(\u001b[49m\u001b[38;5;124;43m\"\u001b[39;49m\u001b[38;5;124;43mJohn\u001b[39;49m\u001b[38;5;124;43m\"\u001b[39;49m\u001b[43m,\u001b[49m\u001b[38;5;124;43m\"\u001b[39;49m\u001b[38;5;124;43mDoe\u001b[39;49m\u001b[38;5;124;43m\"\u001b[39;49m\u001b[43m,\u001b[49m\u001b[38;5;241;43m1\u001b[39;49m\u001b[43m)\u001b[49m  \n",
      "\u001b[1;31mTypeError\u001b[0m: show_full_name() takes 2 positional arguments but 3 were given"
     ]
    }
   ],
   "source": [
    "def show_full_name(fname,lname):\n",
    "    print(f\"{fname} {lname}\")\n",
    "\n",
    "# lỗi vì thừa\n",
    "show_full_name(\"John\",\"Doe\",1)  "
   ]
  },
  {
   "cell_type": "code",
   "execution_count": 7,
   "id": "ef40ff6d",
   "metadata": {},
   "outputs": [
    {
     "name": "stdout",
     "output_type": "stream",
     "text": [
      "John Doe\n"
     ]
    }
   ],
   "source": [
    "def show_full_name(fname,lname=\"Doe\"):\n",
    "    print(f\"{fname} {lname}\")\n",
    "\n",
    "# chạy bth vì đã có tham số lname mặc định rồi\n",
    "show_full_name(\"John\")  "
   ]
  },
  {
   "cell_type": "code",
   "execution_count": null,
   "id": "7568cf8a",
   "metadata": {},
   "outputs": [
    {
     "name": "stdout",
     "output_type": "stream",
     "text": [
      "John Doe\n"
     ]
    }
   ],
   "source": [
    "def show_full_name(fname,lname=\"Doe\"):\n",
    "    return f\"{fname} {lname}\"\n",
    "\n",
    "full_name = show_full_name(\"John\")  \n",
    "print(full_name)"
   ]
  },
  {
   "cell_type": "code",
   "execution_count": 9,
   "id": "f329afdc",
   "metadata": {},
   "outputs": [
    {
     "name": "stdout",
     "output_type": "stream",
     "text": [
      "John Doe\n"
     ]
    }
   ],
   "source": [
    "def show_full_name(fname,lname=\"Doe\"):\n",
    "    return f\"{fname} {lname}\"\n",
    "    return 0 # return này sẽ không được chạy\n",
    "\n",
    "# khi gặp câu lệnh return hàm sẽ chấm dứt hoàn toàn khi gặp nó\n",
    "full_name = show_full_name(\"John\")  \n",
    "print(full_name)"
   ]
  },
  {
   "cell_type": "code",
   "execution_count": null,
   "id": "f61d6592",
   "metadata": {},
   "outputs": [
    {
     "name": "stdout",
     "output_type": "stream",
     "text": [
      "Kenny Doe\n"
     ]
    }
   ],
   "source": [
    "def show_full_name(fname,lname=\"Doe\"):\n",
    "    if fname: # if rỗng | if rỗng ra false\n",
    "        return f\"{fname} {lname}\"\n",
    "    # else: không cần đặt else ở đây vì hàm chỉ cần chạm đế return sẽ dừng.\n",
    "    return f\"Kenny {lname}\"\n",
    "\n",
    "\n",
    "# theo chuẩn pep8 khi tạo hàm kết thúc hàm phải có 2 dòng trống \n",
    "# khi gặp câu lệnh return hàm sẽ chấm dứt hoàn toàn khi gặp nó\n",
    "full_name = show_full_name(\"\")  \n",
    "print(full_name)"
   ]
  },
  {
   "cell_type": "code",
   "execution_count": null,
   "id": "8dc969ae",
   "metadata": {},
   "outputs": [
    {
     "name": "stdout",
     "output_type": "stream",
     "text": [
      "Joe Jelly\n"
     ]
    }
   ],
   "source": [
    "def show_full_name(fname,lname=\"Doe\"):\n",
    "    if fname: # if rỗng | if rỗng ra false\n",
    "        return f\"{fname} {lname}\"\n",
    "    return f\"Kenny {lname}\"\n",
    "\n",
    "# truyền vào đối số có tên\n",
    "full_name = show_full_name(lname=\"Jelly\",fname=\"Joe\")  \n",
    "print(full_name)"
   ]
  },
  {
   "cell_type": "code",
   "execution_count": 19,
   "id": "6516d8aa",
   "metadata": {},
   "outputs": [
    {
     "name": "stdout",
     "output_type": "stream",
     "text": [
      "Joe Jelly\n"
     ]
    }
   ],
   "source": [
    "# python chạy từ trên xuống dưới nên show_full_name() chưa được định nghĩa | phải định nghĩa hàm trước sau đó mới gọi\n",
    "\n",
    "full_name = show_full_name(lname=\"Jelly\",fname=\"Joe\")  \n",
    "print(full_name)\n",
    "\n",
    "def show_full_name(fname,lname=\"Doe\"):\n",
    "    if fname: \n",
    "        return f\"{fname} {lname}\"\n",
    "    return f\"Kenny {lname}\""
   ]
  },
  {
   "cell_type": "code",
   "execution_count": 20,
   "id": "20bc0a6e",
   "metadata": {},
   "outputs": [
    {
     "name": "stdout",
     "output_type": "stream",
     "text": [
      "30\n"
     ]
    }
   ],
   "source": [
    "def add(x,y):\n",
    "    return x+y\n",
    "print(add(10,20))"
   ]
  },
  {
   "cell_type": "code",
   "execution_count": null,
   "id": "039240ab",
   "metadata": {},
   "outputs": [
    {
     "name": "stdout",
     "output_type": "stream",
     "text": [
      "[2]\n",
      "[2, 2]\n"
     ]
    }
   ],
   "source": [
    "def func(lst=[]): # tránh sử dụng giá trị có thể thay đổi cho tham số mặc định. \n",
    "    lst.append(2)\n",
    "    print(lst)\n",
    "func()\n",
    "func()"
   ]
  },
  {
   "cell_type": "code",
   "execution_count": null,
   "id": "c73ad851",
   "metadata": {},
   "outputs": [
    {
     "ename": "UnboundLocalError",
     "evalue": "local variable 'friends' referenced before assignment",
     "output_type": "error",
     "traceback": [
      "\u001b[1;31m---------------------------------------------------------------------------\u001b[0m",
      "\u001b[1;31mUnboundLocalError\u001b[0m                         Traceback (most recent call last)",
      "Cell \u001b[1;32mIn[23], line 7\u001b[0m\n\u001b[0;32m      4\u001b[0m     friends \u001b[38;5;241m=\u001b[39m friends \u001b[38;5;241m+\u001b[39m [\u001b[38;5;124m\"\u001b[39m\u001b[38;5;124mJoe\u001b[39m\u001b[38;5;124m\"\u001b[39m]\n\u001b[0;32m      5\u001b[0m     \u001b[38;5;28mprint\u001b[39m(friends)\n\u001b[1;32m----> 7\u001b[0m \u001b[43mmy_func\u001b[49m\u001b[43m(\u001b[49m\u001b[43m)\u001b[49m\n\u001b[0;32m      9\u001b[0m \u001b[38;5;66;03m# local variable 'friends' referenced before assignment \u001b[39;00m\n",
      "Cell \u001b[1;32mIn[23], line 4\u001b[0m, in \u001b[0;36mmy_func\u001b[1;34m()\u001b[0m\n\u001b[0;32m      3\u001b[0m \u001b[38;5;28;01mdef\u001b[39;00m\u001b[38;5;250m \u001b[39m\u001b[38;5;21mmy_func\u001b[39m():\n\u001b[1;32m----> 4\u001b[0m     friends \u001b[38;5;241m=\u001b[39m \u001b[43mfriends\u001b[49m \u001b[38;5;241m+\u001b[39m [\u001b[38;5;124m\"\u001b[39m\u001b[38;5;124mJoe\u001b[39m\u001b[38;5;124m\"\u001b[39m]\n\u001b[0;32m      5\u001b[0m     \u001b[38;5;28mprint\u001b[39m(friends)\n",
      "\u001b[1;31mUnboundLocalError\u001b[0m: local variable 'friends' referenced before assignment"
     ]
    }
   ],
   "source": [
    "friends = [\"kenny\",\"Bob\",\"Jen\"]\n",
    "\n",
    "def my_func():\n",
    "    friends = friends + [\"Joe\"]\n",
    "    print(friends)\n",
    "\n",
    "my_func()\n",
    "\n",
    "# local variable 'friends' referenced before assignment \n",
    "# lỗi vì UnboundLocalError biến cục bộ( nằm trong hàm) , biến toàn cục nằm bên ngoài hàm nằm trong file.\n",
    "# nếu chạy biến cục bộ thì chạy xong sẽ mất biến đó biến đó được thu hồi lại về ram\n",
    "# lỗi này là ta đang tham chiếu với friends bên phải mà đang tạo ra friends bên trái cho nên nó sẽ bị lỗi.\n",
    "# ở trên friends đặt tên trùng ở đầu thì nó sễ là friends cục bộ bên trong hàm my_func chứ không phải friends bên ngoài hàm\n",
    "# tóm lại nó đang tham chiếu trong khi nó đang được tạo ra "
   ]
  },
  {
   "cell_type": "code",
   "execution_count": null,
   "id": "1a8dc16f",
   "metadata": {},
   "outputs": [
    {
     "name": "stdout",
     "output_type": "stream",
     "text": [
      "['kenny', 'Bob', 'Jen', 'Joe']\n"
     ]
    }
   ],
   "source": [
    "# để khắc phục lỗi này thì ta đổi biến . bên vế bên phải nếu không thấy friends trong hàm sẽ đi ra ngoài biến toàn cục tìm và trả về kết quả.\n",
    "friends = [\"kenny\",\"Bob\",\"Jen\"]\n",
    "\n",
    "def my_func():\n",
    "    f = friends + [\"Joe\"]\n",
    "    print(f)\n",
    "\n",
    "my_func()"
   ]
  },
  {
   "cell_type": "code",
   "execution_count": 26,
   "id": "2b1221c4",
   "metadata": {},
   "outputs": [
    {
     "name": "stdout",
     "output_type": "stream",
     "text": [
      "6\n",
      "6\n"
     ]
    }
   ],
   "source": [
    "# hàm không có tên lambda functions thực hiện những phép toán ngắn gọn\n",
    "# lambda danh sách tham số: giá trị trả về.\n",
    "\n",
    "print((lambda x,y: x+y)(2,4))\n",
    "\n",
    "# hoặc gán cho nó 1 biến khác.\n",
    "add = lambda x,y: x+y\n",
    "print(add(2,4)) \n"
   ]
  },
  {
   "cell_type": "code",
   "execution_count": null,
   "id": "fd8d1b36",
   "metadata": {},
   "outputs": [],
   "source": [
    "# học đến phú 52:19"
   ]
  }
 ],
 "metadata": {
  "kernelspec": {
   "display_name": "Python 3",
   "language": "python",
   "name": "python3"
  },
  "language_info": {
   "codemirror_mode": {
    "name": "ipython",
    "version": 3
   },
   "file_extension": ".py",
   "mimetype": "text/x-python",
   "name": "python",
   "nbconvert_exporter": "python",
   "pygments_lexer": "ipython3",
   "version": "3.10.9"
  }
 },
 "nbformat": 4,
 "nbformat_minor": 5
}
