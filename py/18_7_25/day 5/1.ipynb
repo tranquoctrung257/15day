{
 "cells": [
  {
   "cell_type": "markdown",
   "id": "07507047",
   "metadata": {},
   "source": [
    "+ list in list \n",
    "+ copy list\n",
    "+ list slicing"
   ]
  },
  {
   "cell_type": "code",
   "execution_count": null,
   "id": "ca84b8d9",
   "metadata": {},
   "outputs": [
    {
     "name": "stdout",
     "output_type": "stream",
     "text": [
      "<class 'list'>\n",
      "['Bob', 23]\n",
      "Bob\n"
     ]
    },
    {
     "ename": "IndexError",
     "evalue": "list index out of range",
     "output_type": "error",
     "traceback": [
      "\u001b[1;31m---------------------------------------------------------------------------\u001b[0m",
      "\u001b[1;31mIndexError\u001b[0m                                Traceback (most recent call last)",
      "Cell \u001b[1;32mIn[5], line 8\u001b[0m\n\u001b[0;32m      5\u001b[0m \u001b[38;5;28mprint\u001b[39m(friends[\u001b[38;5;241m0\u001b[39m])\n\u001b[0;32m      6\u001b[0m \u001b[38;5;28mprint\u001b[39m(friends[\u001b[38;5;241m0\u001b[39m][\u001b[38;5;241m0\u001b[39m])\n\u001b[1;32m----> 8\u001b[0m \u001b[38;5;28mprint\u001b[39m(\u001b[43mfriends\u001b[49m\u001b[43m[\u001b[49m\u001b[38;5;241;43m100\u001b[39;49m\u001b[43m]\u001b[49m[\u001b[38;5;241m1\u001b[39m])\n",
      "\u001b[1;31mIndexError\u001b[0m: list index out of range"
     ]
    }
   ],
   "source": [
    "# list in list\n",
    "friends = [[\"Bob\",23],[\"Jen\",34],[\"Kenny\",56]]\n",
    "print(type(friends))\n",
    "\n",
    "print(friends[0])\n",
    "print(friends[0][0])\n",
    "\n",
    "print(friends[100][1]) # nếu ngoài giá trị mà friends có thì sẽ báo lỗi."
   ]
  },
  {
   "cell_type": "code",
   "execution_count": 9,
   "id": "5a8720de",
   "metadata": {},
   "outputs": [
    {
     "name": "stdout",
     "output_type": "stream",
     "text": [
      "True\n",
      "True\n",
      "2129374102976 2129374102976\n",
      "------------------------------\n",
      "False\n",
      "True\n",
      "2129373954944 2129396690496\n"
     ]
    }
   ],
   "source": [
    "# copy list\n",
    "lst1 = [1,2,3,4,5]\n",
    "lst2 = lst1\n",
    "\n",
    "# sử dụng toán tử is để kiểm tra id,vị trí bộ nhớ của cái list đó.\n",
    "print(lst1 is lst2) # trả về True nên 2 biến này cùng vị trí bộ nhớ.\n",
    "print(lst1 == lst2)\n",
    "\n",
    "# để xem id duy nhất của giá trị, cái object  của một biến nào đó truyền vào.\n",
    "print(id(lst1),id(lst2))\n",
    "\n",
    "print(\"---\"*10)\n",
    "\n",
    "lst1 = [1,2,3,4,5]\n",
    "lst2 = lst1.copy()\n",
    "\n",
    "# nếu sử dụng hàm copy sẽ khiến 2 biến không cùng vị trí bộ nhớ.\n",
    "print(lst1 is lst2) # trả về False nên 2 biến này không cùng vị trí bộ nhớ.\n",
    "print(lst1 == lst2) # nhưng cùng giá trị\n",
    "\n",
    "print(id(lst1),id(lst2))\n"
   ]
  },
  {
   "cell_type": "code",
   "execution_count": 18,
   "id": "f9d31a76",
   "metadata": {},
   "outputs": [
    {
     "name": "stdout",
     "output_type": "stream",
     "text": [
      "[1, 2]\n",
      "False\n",
      "[1, 2]\n",
      "[2, 3, 4, 5, 66, 7]\n",
      "[2, 3, 4, 5, 66]\n",
      "False\n",
      "True\n",
      "[1, 2, 3, 4, 5, 66, 7]\n",
      "[7, 66, 5, 4, 3, 2, 1]\n"
     ]
    }
   ],
   "source": [
    "# + list slicing: được định nghĩa là lấy ra một phần từ list ban đầu.\n",
    "\n",
    "# ví dụ\n",
    "# list slicing ==> trả về một list mới không cùng vị trí với list ban đầu.\n",
    "a = [1,2,3,4,5,66,7]\n",
    "# a[start,stop,step]\n",
    "new_lst = a[0:2:1]\n",
    "print(new_lst)\n",
    "print(new_lst is a)\n",
    "\n",
    "new_lst_1 = a[:2] # hoặc có thể viết gọn lại\n",
    "print(new_lst_1)\n",
    "\n",
    "# để lấy ra từ vị trí 1 đến hết\n",
    "\n",
    "new_lst_2 = a[1:]\n",
    "print(new_lst_2)\n",
    "\n",
    "# để lấy giá trị list bỏ 1 giá trị cuối và đầu.\n",
    "new_lst_3 = a[1:-1]\n",
    "print(new_lst_3)\n",
    "\n",
    "\n",
    "# để lấy ra tất cả\n",
    "new_lst_4 = a[:]\n",
    "print(new_lst_4 is a)\n",
    "print(a == new_lst_4)\n",
    "print(new_lst_4)\n",
    "\n",
    "# để lật ngược list lại\n",
    "new_lst_5 = a[::-1]\n",
    "print(new_lst_5)\n"
   ]
  },
  {
   "cell_type": "code",
   "execution_count": null,
   "id": "b445d09a",
   "metadata": {},
   "outputs": [],
   "source": []
  }
 ],
 "metadata": {
  "kernelspec": {
   "display_name": "Python 3",
   "language": "python",
   "name": "python3"
  },
  "language_info": {
   "codemirror_mode": {
    "name": "ipython",
    "version": 3
   },
   "file_extension": ".py",
   "mimetype": "text/x-python",
   "name": "python",
   "nbconvert_exporter": "python",
   "pygments_lexer": "ipython3",
   "version": "3.10.9"
  }
 },
 "nbformat": 4,
 "nbformat_minor": 5
}
