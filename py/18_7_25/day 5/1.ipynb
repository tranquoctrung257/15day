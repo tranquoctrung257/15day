{
 "cells": [
  {
   "cell_type": "markdown",
   "id": "07507047",
   "metadata": {},
   "source": [
    "+ list in list \n",
    "+ copy list\n",
    "+ list slicing"
   ]
  },
  {
   "cell_type": "code",
   "execution_count": null,
   "id": "ca84b8d9",
   "metadata": {},
   "outputs": [],
   "source": []
  }
 ],
 "metadata": {
  "language_info": {
   "name": "python"
  }
 },
 "nbformat": 4,
 "nbformat_minor": 5
}
