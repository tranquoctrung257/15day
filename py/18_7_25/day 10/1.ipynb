{
 "cells": [
  {
   "cell_type": "markdown",
   "id": "3650de90",
   "metadata": {},
   "source": [
    "List, Tuple, Set, Dict Comprehensions, các hàm zip, enumerate"
   ]
  },
  {
   "cell_type": "code",
   "execution_count": 1,
   "id": "5cc7242a",
   "metadata": {},
   "outputs": [
    {
     "name": "stdout",
     "output_type": "stream",
     "text": [
      "4\n",
      "100\n",
      "6\n"
     ]
    }
   ],
   "source": [
    "lst = [4,100,6]\n",
    "for value in lst:\n",
    "    print(value)"
   ]
  },
  {
   "cell_type": "code",
   "execution_count": 2,
   "id": "a170d35b",
   "metadata": {},
   "outputs": [
    {
     "name": "stdout",
     "output_type": "stream",
     "text": [
      "1\n",
      "2\n",
      "654\n",
      "100\n"
     ]
    }
   ],
   "source": [
    "lst = (1,2,654,100)\n",
    "for value in lst:\n",
    "    print(value)"
   ]
  },
  {
   "cell_type": "code",
   "execution_count": 3,
   "id": "b3915d04",
   "metadata": {},
   "outputs": [
    {
     "name": "stdout",
     "output_type": "stream",
     "text": [
      "1\n",
      "2\n",
      "100\n",
      "654\n"
     ]
    }
   ],
   "source": [
    "lst = {1,2,654,100}\n",
    "for value in lst:\n",
    "    print(value)"
   ]
  },
  {
   "cell_type": "code",
   "execution_count": 9,
   "id": "899345ae",
   "metadata": {},
   "outputs": [
    {
     "name": "stdout",
     "output_type": "stream",
     "text": [
      "a\n",
      "g\n",
      "as\n",
      "aaa\n",
      "1\n",
      "12\n",
      "15\n",
      "13\n",
      "a\n",
      "__________\n",
      "1\n",
      "g\n",
      "__________\n",
      "12\n",
      "as\n",
      "__________\n",
      "15\n",
      "aaa\n",
      "__________\n",
      "13\n"
     ]
    }
   ],
   "source": [
    "d = {\n",
    "    \"a\":1,\n",
    "    \"g\":12,\n",
    "    \"as\":15,\n",
    "    \"aaa\":13,\n",
    "}\n",
    "\n",
    "# để lấy ra các key trong dict\n",
    "for value in d:\n",
    "    print(value)\n",
    "\n",
    "# để lấy ra các giá trị\n",
    "\n",
    "for value in d.values():\n",
    "    print(value)\n",
    "\n",
    "# để lấy ra cả key lẫn value\n",
    "for value in d.items():\n",
    "    key,value = value\n",
    "    print(key)\n",
    "    print(\"_\"* 10)\n",
    "    print(value)"
   ]
  },
  {
   "cell_type": "code",
   "execution_count": 10,
   "id": "7459ac30",
   "metadata": {},
   "outputs": [],
   "source": [
    "# những cái trên là for trong iterable\n",
    "# là những cái có thể sử dụng for để lặp qua nó được. ví dụ list, Tuple, Set, Dict"
   ]
  },
  {
   "cell_type": "code",
   "execution_count": 14,
   "id": "f35b08ce",
   "metadata": {},
   "outputs": [
    {
     "name": "stdout",
     "output_type": "stream",
     "text": [
      "[2, 4, 6, 8]\n",
      "[2, 4, 6, 8]\n"
     ]
    }
   ],
   "source": [
    "# list comprehensions\n",
    "lst = [1,2,3,4]\n",
    "# new_lst [2,4,6,8]\n",
    "\n",
    "new_lst = []\n",
    "for x in lst:\n",
    "    val = x*2\n",
    "    new_lst.append(val)\n",
    "print(new_lst)\n",
    "\n",
    "# thay vì cách trên thì ta có cách khác\n",
    "\n",
    "new_lst = [val * 2 for val in lst]\n",
    "print(new_lst)"
   ]
  },
  {
   "cell_type": "code",
   "execution_count": 16,
   "id": "5b55527b",
   "metadata": {},
   "outputs": [
    {
     "name": "stdout",
     "output_type": "stream",
     "text": [
      "{'B', 'A', 'C'}\n"
     ]
    }
   ],
   "source": [
    "# set comprehensions\n",
    "set_a = {\"a\",\"b\",\"c\"}\n",
    "new_set = {s.upper() for s in set_a}\n",
    "print(new_set)"
   ]
  },
  {
   "cell_type": "code",
   "execution_count": 20,
   "id": "bc519e6a",
   "metadata": {},
   "outputs": [
    {
     "name": "stdout",
     "output_type": "stream",
     "text": [
      "{'a': 2, 'b': 4, 'c': 6}\n",
      "False\n"
     ]
    }
   ],
   "source": [
    "# dict comprehensions\n",
    "d = {\n",
    "    \"a\":1,\n",
    "    \"b\":2,\n",
    "    \"c\":3\n",
    "}\n",
    "\n",
    "new_d = {\n",
    "    k:v*2 for k,v in d.items()\n",
    "}\n",
    "print(new_d)\n",
    "print(new_d == d)"
   ]
  },
  {
   "cell_type": "code",
   "execution_count": null,
   "id": "7ebd6f0e",
   "metadata": {},
   "outputs": [
    {
     "name": "stdout",
     "output_type": "stream",
     "text": [
      "[('a', 1), ('b', 2), ('c', 3)]\n",
      "[('a', 1, 'c1'), ('b', 2, 'c2'), ('c', 3, 'c3')]\n"
     ]
    },
    {
     "ename": "ValueError",
     "evalue": "dictionary update sequence element #0 has length 3; 2 is required",
     "output_type": "error",
     "traceback": [
      "\u001b[1;31m---------------------------------------------------------------------------\u001b[0m",
      "\u001b[1;31mValueError\u001b[0m                                Traceback (most recent call last)",
      "Cell \u001b[1;32mIn[23], line 8\u001b[0m\n\u001b[0;32m      6\u001b[0m \u001b[38;5;28mprint\u001b[39m(\u001b[38;5;28mlist\u001b[39m(\u001b[38;5;28mzip\u001b[39m(lst1,lst2)))\n\u001b[0;32m      7\u001b[0m \u001b[38;5;28mprint\u001b[39m(\u001b[38;5;28mlist\u001b[39m(\u001b[38;5;28mzip\u001b[39m(lst1,lst2,lst3)))\n\u001b[1;32m----> 8\u001b[0m \u001b[38;5;28mprint\u001b[39m(\u001b[38;5;28;43mdict\u001b[39;49m\u001b[43m(\u001b[49m\u001b[38;5;28;43mzip\u001b[39;49m\u001b[43m(\u001b[49m\u001b[43mlst1\u001b[49m\u001b[43m,\u001b[49m\u001b[43mlst2\u001b[49m\u001b[43m,\u001b[49m\u001b[43mlst3\u001b[49m\u001b[43m)\u001b[49m\u001b[43m)\u001b[49m)\n",
      "\u001b[1;31mValueError\u001b[0m: dictionary update sequence element #0 has length 3; 2 is required"
     ]
    }
   ],
   "source": [
    "# zip, Comprehensions : đều tạo ra obj\n",
    "lst1 = [\"a\",\"b\",\"c\"]\n",
    "lst2 = [1,2,3,4]\n",
    "lst3 = [\"c1\",\"c2\",\"c3\"]\n",
    "# lấy list có kích thước nhỏ nhất rồi ghép 2 list lại cái mà dài hơn cái thừa ra sẽ không được in ra\n",
    "print(list(zip(lst1,lst2)))\n",
    "print(list(zip(lst1,lst2,lst3)))\n"
   ]
  },
  {
   "cell_type": "code",
   "execution_count": 27,
   "id": "d3ad8cd9",
   "metadata": {},
   "outputs": [
    {
     "name": "stdout",
     "output_type": "stream",
     "text": [
      "[(0, 'a'), (1, 'b'), (2, 'c')]\n",
      "[(1, 'a'), (2, 'b'), (3, 'c')]\n"
     ]
    }
   ],
   "source": [
    "lst1 = [\"a\",\"b\",\"c\"]\n",
    "lst2 = [1,2,3,4]\n",
    "lst3 = [\"c1\",\"c2\",\"c3\"]\n",
    "\n",
    "print(list(enumerate(lst1)))\n",
    "print(list(enumerate(lst1,start=1)))"
   ]
  },
  {
   "cell_type": "code",
   "execution_count": 29,
   "id": "372c0238",
   "metadata": {},
   "outputs": [
    {
     "name": "stdout",
     "output_type": "stream",
     "text": [
      "[('a', 1), ('b', 2), ('c', 3)]\n",
      "{'a': 1, 'b': 2, 'c': 3}\n"
     ]
    }
   ],
   "source": [
    "lst1 = [\"a\",\"b\",\"c\"]\n",
    "lst2 = [1,2,3,4]\n",
    "print(list(zip(lst1,lst2)))\n",
    "print(dict(zip(lst1,lst2)))"
   ]
  },
  {
   "cell_type": "code",
   "execution_count": 31,
   "id": "cef3ef0e",
   "metadata": {},
   "outputs": [
    {
     "name": "stdout",
     "output_type": "stream",
     "text": [
      "[1, 8, 27, 64]\n"
     ]
    }
   ],
   "source": [
    "# lập phương các giá trị bên trong list\n",
    "lst = [1,2,3,4]\n",
    "new_lst = [v ** 3 for v in lst]\n",
    "print(new_lst)"
   ]
  },
  {
   "cell_type": "code",
   "execution_count": 33,
   "id": "cb71ca4f",
   "metadata": {},
   "outputs": [
    {
     "name": "stdout",
     "output_type": "stream",
     "text": [
      "4\n",
      "[1, 8, 27, 64]\n"
     ]
    }
   ],
   "source": [
    "new_lst = []\n",
    "lst = [1,2,3,4]\n",
    "\n",
    "for i in lst:\n",
    "    new_lst.append(i**3)\n",
    "print(i)\n",
    "print(new_lst)"
   ]
  },
  {
   "cell_type": "code",
   "execution_count": null,
   "id": "17e0527e",
   "metadata": {},
   "outputs": [
    {
     "name": "stdout",
     "output_type": "stream",
     "text": [
      "[2, 2, 4, 6]\n",
      "14\n"
     ]
    }
   ],
   "source": [
    "# in ra tổng các số chẵn sử dụng list Comprehensions\n",
    "lst = [1,2,3,2,4,5,6]\n",
    "lst_1 = [v for v in lst if v % 2 == 0]\n",
    "print(lst_1)\n",
    "print(sum(lst_1))"
   ]
  },
  {
   "cell_type": "code",
   "execution_count": 37,
   "id": "6a69156c",
   "metadata": {},
   "outputs": [
    {
     "name": "stdout",
     "output_type": "stream",
     "text": [
      "[123105, 330, 23, 2131, 23, 1231, 22345, 993]\n"
     ]
    }
   ],
   "source": [
    "# viết list Comprehensions chẵn * 2 lẻ * 3\n",
    "\n",
    "number = [123105,330,23,2131,23,1231,22345,993]\n",
    "new_number = [v*2 if v % 2 == 0 else v * 3 for v in number]\n",
    "print(number)"
   ]
  },
  {
   "cell_type": "code",
   "execution_count": 41,
   "id": "b71930c4",
   "metadata": {},
   "outputs": [
    {
     "name": "stdout",
     "output_type": "stream",
     "text": [
      "0 -13\n",
      "1 -13\n",
      "2 -13\n",
      "3 -13\n",
      "\n",
      "1 -13\n",
      "2 -13\n",
      "3 -13\n",
      "4 -13\n",
      "\n",
      "1 -13\n",
      "2 -13\n",
      "3 -13\n",
      "4 -13\n"
     ]
    }
   ],
   "source": [
    "# để in ra \n",
    "\n",
    "lst = [1,2,3,4]\n",
    "# {i} - {value}\n",
    "for item in enumerate(lst):\n",
    "    idx,vl = item\n",
    "    print(f\"{idx} -{value}\")\n",
    "print()\n",
    "for item in enumerate(lst):\n",
    "    idx,vl = item\n",
    "    print(f\"{idx+1} -{value}\")\n",
    "print()\n",
    "for idx,vl in enumerate(lst,start=1):\n",
    "    print(f\"{idx} -{value}\")"
   ]
  },
  {
   "cell_type": "code",
   "execution_count": null,
   "id": "647f3001",
   "metadata": {},
   "outputs": [
    {
     "ename": "ValueError",
     "evalue": "not enough values to unpack (expected 2, got 1)",
     "output_type": "error",
     "traceback": [
      "\u001b[1;31m---------------------------------------------------------------------------\u001b[0m",
      "\u001b[1;31mValueError\u001b[0m                                Traceback (most recent call last)",
      "Cell \u001b[1;32mIn[42], line 1\u001b[0m\n\u001b[1;32m----> 1\u001b[0m \u001b[38;5;28;01mfor\u001b[39;00m idx,vl \u001b[38;5;129;01min\u001b[39;00m \u001b[38;5;28mzip\u001b[39m(\u001b[38;5;28menumerate\u001b[39m(lst,start\u001b[38;5;241m=\u001b[39m\u001b[38;5;241m1\u001b[39m)):\n\u001b[0;32m      2\u001b[0m     \u001b[38;5;28mprint\u001b[39m(\u001b[38;5;124mf\u001b[39m\u001b[38;5;124m\"\u001b[39m\u001b[38;5;132;01m{\u001b[39;00midx\u001b[38;5;132;01m}\u001b[39;00m\u001b[38;5;124m -\u001b[39m\u001b[38;5;132;01m{\u001b[39;00mvalue\u001b[38;5;132;01m}\u001b[39;00m\u001b[38;5;124m\"\u001b[39m)\n",
      "\u001b[1;31mValueError\u001b[0m: not enough values to unpack (expected 2, got 1)"
     ]
    }
   ],
   "source": [
    "# không thể sử dụng zip cho enumerate\n",
    "for idx,vl in zip(enumerate(lst,start=1)):\n",
    "    print(f\"{idx} -{value}\")"
   ]
  },
  {
   "cell_type": "code",
   "execution_count": 43,
   "id": "a214716e",
   "metadata": {},
   "outputs": [
    {
     "name": "stdout",
     "output_type": "stream",
     "text": [
      "[((1, 1),), ((2, 2),), ((3, 3),), ((4, 4),)]\n"
     ]
    }
   ],
   "source": [
    "print(list(zip(enumerate(lst,start=1))))"
   ]
  },
  {
   "cell_type": "code",
   "execution_count": 46,
   "id": "65ee2be2",
   "metadata": {},
   "outputs": [
    {
     "name": "stdout",
     "output_type": "stream",
     "text": [
      "1 2\n",
      "3 4\n",
      "1 2\n",
      "3 4\n"
     ]
    }
   ],
   "source": [
    "# để check coi 1 list có giá trị lẻ không\n",
    "\n",
    "lst = [1,2,3,4]\n",
    "\n",
    "for i,v in enumerate(lst):\n",
    "    if i % 2 != 0:\n",
    "        print(i,v)\n",
    "\n",
    "# viết theo cách bth\n",
    "for i in range(len(lst)):\n",
    "    if i % 2 != 0:\n",
    "        print(i,lst[i])"
   ]
  },
  {
   "cell_type": "code",
   "execution_count": null,
   "id": "284c2abf",
   "metadata": {},
   "outputs": [],
   "source": []
  }
 ],
 "metadata": {
  "kernelspec": {
   "display_name": "Python 3",
   "language": "python",
   "name": "python3"
  },
  "language_info": {
   "codemirror_mode": {
    "name": "ipython",
    "version": 3
   },
   "file_extension": ".py",
   "mimetype": "text/x-python",
   "name": "python",
   "nbconvert_exporter": "python",
   "pygments_lexer": "ipython3",
   "version": "3.10.9"
  }
 },
 "nbformat": 4,
 "nbformat_minor": 5
}
