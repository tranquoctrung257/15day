{
 "cells": [
  {
   "cell_type": "markdown",
   "id": "e6497a0b",
   "metadata": {},
   "source": [
    "+ set\n",
    "+ tuple"
   ]
  },
  {
   "cell_type": "code",
   "execution_count": 9,
   "id": "30590436",
   "metadata": {},
   "outputs": [
    {
     "name": "stdout",
     "output_type": "stream",
     "text": [
      "<class 'tuple'>\n",
      "<class 'tuple'>\n",
      "<class 'tuple'>\n",
      "<class 'tuple'>\n",
      "2\n",
      "23\n"
     ]
    }
   ],
   "source": [
    "# tuple là một bộ giá trị là một cấu trúc dữ liệu có thứ tự, có thể chứa những phần tử trùng lặp,và được tạo bởi cặp dấu ngoặc tròn,nó không thể thay đổi nó và giá trị trong bản thân nó.\n",
    "\n",
    "tup1 = 1,2,3,4\n",
    "tup2 = (1,2,3,4)\n",
    "tup3 = 1,\n",
    "tup4 = (4,)\n",
    "print(type(tup1)) \n",
    "print(type(tup2)) \n",
    "print(type(tup3)) \n",
    "print(type(tup4)) \n",
    "\n",
    "# để in ra giá trị trong tuple ta sẽ sử dụng giống list.\n",
    "tup = 1,2,23242,324,23\n",
    "print(tup[1])\n",
    "print(tup[-1])\n",
    "\n"
   ]
  },
  {
   "cell_type": "code",
   "execution_count": 12,
   "id": "5c312888",
   "metadata": {},
   "outputs": [
    {
     "ename": "TypeError",
     "evalue": "'tuple' object does not support item assignment",
     "output_type": "error",
     "traceback": [
      "\u001b[1;31m---------------------------------------------------------------------------\u001b[0m",
      "\u001b[1;31mTypeError\u001b[0m                                 Traceback (most recent call last)",
      "Cell \u001b[1;32mIn[12], line 4\u001b[0m\n\u001b[0;32m      1\u001b[0m tup \u001b[38;5;241m=\u001b[39m \u001b[38;5;241m1\u001b[39m,\u001b[38;5;241m2\u001b[39m,\u001b[38;5;241m23242\u001b[39m,\u001b[38;5;241m324\u001b[39m,\u001b[38;5;241m23\u001b[39m\n\u001b[0;32m      3\u001b[0m \u001b[38;5;66;03m# sẽ không thay đổi giá trị của tuple\u001b[39;00m\n\u001b[1;32m----> 4\u001b[0m \u001b[43mtup\u001b[49m\u001b[43m[\u001b[49m\u001b[38;5;241;43m0\u001b[39;49m\u001b[43m]\u001b[49m \u001b[38;5;241m=\u001b[39m \u001b[38;5;241m1000\u001b[39m\n",
      "\u001b[1;31mTypeError\u001b[0m: 'tuple' object does not support item assignment"
     ]
    }
   ],
   "source": [
    "tup = 1,2,23242,324,23\n",
    "\n",
    "# sẽ không thay đổi giá trị của tuple\n",
    "tup[0] = 1000"
   ]
  },
  {
   "cell_type": "code",
   "execution_count": 15,
   "id": "18c8ad8a",
   "metadata": {},
   "outputs": [
    {
     "name": "stdout",
     "output_type": "stream",
     "text": [
      "(1, 2, 23242, 324, 23)\n",
      "(1, 2, 23242, 324, 23, 4)\n",
      "(1, 2, 23242, 324, 23, 4, 11, 2, 343, 233423)\n"
     ]
    }
   ],
   "source": [
    "# để thêm giá trị vào cuối của 1 tuple\n",
    "tup = 1,2,23242,324,23\n",
    "print(tup)\n",
    "tup+=4,\n",
    "print(tup)\n",
    "# để thêm nhiều phần tử hơn.\n",
    "tup+=11,2,343,233423\n",
    "print(tup)"
   ]
  },
  {
   "cell_type": "code",
   "execution_count": null,
   "id": "0007c526",
   "metadata": {},
   "outputs": [],
   "source": []
  },
  {
   "cell_type": "code",
   "execution_count": null,
   "id": "fb7a3fea",
   "metadata": {},
   "outputs": [],
   "source": []
  },
  {
   "cell_type": "code",
   "execution_count": null,
   "id": "5bddd9f5",
   "metadata": {},
   "outputs": [],
   "source": []
  },
  {
   "cell_type": "code",
   "execution_count": null,
   "id": "6d02f5d1",
   "metadata": {},
   "outputs": [],
   "source": []
  },
  {
   "cell_type": "code",
   "execution_count": 23,
   "id": "0b0f5808",
   "metadata": {},
   "outputs": [
    {
     "name": "stdout",
     "output_type": "stream",
     "text": [
      "0\n",
      "<class 'set'>\n",
      "{1}\n",
      "{1, 2, 3, 4, 5}\n",
      "{2, 3, 4, 5}\n",
      "False\n",
      "True\n",
      "set()\n"
     ]
    }
   ],
   "source": [
    "# set được tạo bởi cặp dấu ngoặc nhọn, và trong set không thể chứa những phần tử trùng lặp, set không có thứ tự.\n",
    "\n",
    "set_1 = set() # set trống\n",
    "print(len(set_1))\n",
    "print(type(set_1))\n",
    "\n",
    "# để thêm 1 giá trị vào set\n",
    "\n",
    "set_1.add(1)\n",
    "\n",
    "# thêm nhiều lần nhưng chỉ có 1 số 1 thôi vì set không thể chứa phần tử trùng lặp\n",
    "set_1.add(1)\n",
    "set_1.add(1)\n",
    "set_1.add(1)\n",
    "set_1.add(1)\n",
    "set_1.add(1)\n",
    "\n",
    "\n",
    "print(set_1)\n",
    "\n",
    "# để update set\n",
    "set_1.update([1,2,3,4,3,5])\n",
    "print(set_1)\n",
    "\n",
    "# để xóa phần tử nào đó trong set ta dùng remove\n",
    "set_1.remove(1)\n",
    "print(set_1)\n",
    "\n",
    "# để copy set \n",
    "set_new = set_1.copy()\n",
    "print(set_1 is set_new)\n",
    "print(set_1 == set_new)\n",
    "\n",
    "# set này được sử dụng khi so sánh nhiều tập hợp có điểm chung hay không có điểm chung \n",
    "\n",
    "# để làm trống set ta sử dụng clear\n",
    "set_1.clear()\n",
    "print(set_1)"
   ]
  },
  {
   "cell_type": "code",
   "execution_count": null,
   "id": "2bf7d005",
   "metadata": {},
   "outputs": [
    {
     "name": "stdout",
     "output_type": "stream",
     "text": [
      "<class 'set'>\n",
      "{1, 2, 3, 4, 5, 6, 'Kenny'}\n"
     ]
    },
    {
     "ename": "TypeError",
     "evalue": "unhashable type: 'list'",
     "output_type": "error",
     "traceback": [
      "\u001b[1;31m---------------------------------------------------------------------------\u001b[0m",
      "\u001b[1;31mTypeError\u001b[0m                                 Traceback (most recent call last)",
      "Cell \u001b[1;32mIn[25], line 9\u001b[0m\n\u001b[0;32m      6\u001b[0m set1\u001b[38;5;241m.\u001b[39madd(\u001b[38;5;124m\"\u001b[39m\u001b[38;5;124mKenny\u001b[39m\u001b[38;5;124m\"\u001b[39m)\n\u001b[0;32m      7\u001b[0m \u001b[38;5;28mprint\u001b[39m(set1)\n\u001b[1;32m----> 9\u001b[0m \u001b[43mset1\u001b[49m\u001b[38;5;241;43m.\u001b[39;49m\u001b[43madd\u001b[49m\u001b[43m(\u001b[49m\u001b[43m[\u001b[49m\u001b[38;5;241;43m12\u001b[39;49m\u001b[43m,\u001b[49m\u001b[38;5;241;43m3\u001b[39;49m\u001b[43m,\u001b[49m\u001b[38;5;241;43m33\u001b[39;49m\u001b[43m,\u001b[49m\u001b[38;5;241;43m1\u001b[39;49m\u001b[43m,\u001b[49m\u001b[38;5;241;43m3\u001b[39;49m\u001b[43m]\u001b[49m\u001b[43m)\u001b[49m\n\u001b[0;32m     10\u001b[0m \u001b[38;5;28mprint\u001b[39m(set_1)\n",
      "\u001b[1;31mTypeError\u001b[0m: unhashable type: 'list'"
     ]
    }
   ],
   "source": [
    "set1 = {1,2,3,4,5,2,6}\n",
    "print(type(set_1))\n",
    "\n",
    "# để thêm phần tử vào trong 1 set ta sử dụng add nhưng add chỉ hoạt động khi sử dụng những cái mà không thay đổi còn những cái thay đổi được như list sẽ báo lỗi vì list có thể thay đổi bằng cách append,extend,...\n",
    "# ví dụ\n",
    "set1.add(\"Kenny\")\n",
    "print(set1)\n",
    "\n",
    "set1.add([12,3,33,1,3]) # sẽ báo lỗi vì list có thể thay đổi được.\n",
    "print(set_1)\n",
    "\n"
   ]
  },
  {
   "cell_type": "code",
   "execution_count": null,
   "id": "7889e952",
   "metadata": {},
   "outputs": [
    {
     "ename": "TypeError",
     "evalue": "'set' object is not subscriptable",
     "output_type": "error",
     "traceback": [
      "\u001b[1;31m---------------------------------------------------------------------------\u001b[0m",
      "\u001b[1;31mTypeError\u001b[0m                                 Traceback (most recent call last)",
      "Cell \u001b[1;32mIn[26], line 2\u001b[0m\n\u001b[0;32m      1\u001b[0m set1 \u001b[38;5;241m=\u001b[39m {\u001b[38;5;241m1\u001b[39m,\u001b[38;5;241m2\u001b[39m,\u001b[38;5;241m3\u001b[39m,\u001b[38;5;241m4\u001b[39m,\u001b[38;5;241m5\u001b[39m,\u001b[38;5;241m2\u001b[39m,\u001b[38;5;241m6\u001b[39m}\n\u001b[1;32m----> 2\u001b[0m \u001b[38;5;28mprint\u001b[39m(\u001b[43mset_1\u001b[49m\u001b[43m[\u001b[49m\u001b[38;5;241;43m-\u001b[39;49m\u001b[38;5;241;43m1\u001b[39;49m\u001b[43m]\u001b[49m)\n",
      "\u001b[1;31mTypeError\u001b[0m: 'set' object is not subscriptable"
     ]
    }
   ],
   "source": [
    "set1 = {1,2,3,4,5,2,6}\n",
    "print(set_1[-1]) # set không có thứ tự nên không thể truy cập bằng chỉ số."
   ]
  },
  {
   "cell_type": "code",
   "execution_count": 27,
   "id": "33461014",
   "metadata": {},
   "outputs": [
    {
     "ename": "KeyError",
     "evalue": "1000",
     "output_type": "error",
     "traceback": [
      "\u001b[1;31m---------------------------------------------------------------------------\u001b[0m",
      "\u001b[1;31mKeyError\u001b[0m                                  Traceback (most recent call last)",
      "Cell \u001b[1;32mIn[27], line 5\u001b[0m\n\u001b[0;32m      2\u001b[0m set1 \u001b[38;5;241m=\u001b[39m {\u001b[38;5;241m1\u001b[39m,\u001b[38;5;241m2\u001b[39m,\u001b[38;5;241m3\u001b[39m,\u001b[38;5;241m4\u001b[39m,\u001b[38;5;241m5\u001b[39m,\u001b[38;5;241m2\u001b[39m,\u001b[38;5;241m6\u001b[39m}\n\u001b[0;32m      4\u001b[0m \u001b[38;5;66;03m# nếu mà phần tử mình xóa không có trong set sẽ bị báo lỗi\u001b[39;00m\n\u001b[1;32m----> 5\u001b[0m \u001b[43mset1\u001b[49m\u001b[38;5;241;43m.\u001b[39;49m\u001b[43mremove\u001b[49m\u001b[43m(\u001b[49m\u001b[38;5;241;43m1000\u001b[39;49m\u001b[43m)\u001b[49m\n\u001b[0;32m      6\u001b[0m \u001b[38;5;28mprint\u001b[39m(set1)\n",
      "\u001b[1;31mKeyError\u001b[0m: 1000"
     ]
    }
   ],
   "source": [
    "# để xóa một phần tử nào đó trong set ta sử dụng remove \n",
    "set1 = {1,2,3,4,5,2,6}\n",
    "\n",
    "# nếu mà phần tử mình xóa không có trong set sẽ bị báo lỗi\n",
    "set1.remove(1000)\n",
    "print(set1)"
   ]
  },
  {
   "cell_type": "code",
   "execution_count": 28,
   "id": "3b83494e",
   "metadata": {},
   "outputs": [],
   "source": [
    "# ví dụ ta đang chấm mà lỡ làm mất cái gợi ý thì sử dụng ctrl + phím cách \n",
    "# set1."
   ]
  },
  {
   "cell_type": "code",
   "execution_count": 29,
   "id": "d3fa0127",
   "metadata": {},
   "outputs": [
    {
     "name": "stdout",
     "output_type": "stream",
     "text": [
      "['__and__', '__class__', '__class_getitem__', '__contains__', '__delattr__', '__dir__', '__doc__', '__eq__', '__format__', '__ge__', '__getattribute__', '__gt__', '__hash__', '__iand__', '__init__', '__init_subclass__', '__ior__', '__isub__', '__iter__', '__ixor__', '__le__', '__len__', '__lt__', '__ne__', '__new__', '__or__', '__rand__', '__reduce__', '__reduce_ex__', '__repr__', '__ror__', '__rsub__', '__rxor__', '__setattr__', '__sizeof__', '__str__', '__sub__', '__subclasshook__', '__xor__', 'add', 'clear', 'copy', 'difference', 'difference_update', 'discard', 'intersection', 'intersection_update', 'isdisjoint', 'issubset', 'issuperset', 'pop', 'remove', 'symmetric_difference', 'symmetric_difference_update', 'union', 'update']\n",
      "Help on method_descriptor:\n",
      "\n",
      "remove(...)\n",
      "    Remove an element from a set; it must be a member.\n",
      "    \n",
      "    If the element is not a member, raise a KeyError.\n",
      "\n",
      "None\n"
     ]
    }
   ],
   "source": [
    "# để sử tìm cách sử dụng của một phần tử nào đó trong set ta sử dụng. help\n",
    "print(dir(set()))\n",
    "print(help(set.remove))"
   ]
  },
  {
   "cell_type": "code",
   "execution_count": 34,
   "id": "05a5ce50",
   "metadata": {},
   "outputs": [
    {
     "name": "stdout",
     "output_type": "stream",
     "text": [
      "{2, 3, 4, 23}\n",
      "1\n"
     ]
    }
   ],
   "source": [
    "# để xóa phần tử cuối và lưu lại ta sử dụng pop\n",
    "\n",
    "set1 = {1,2,3,3,23,4,23,4}\n",
    "any_value = set1.pop()\n",
    "print(set1) # vì trong set không có thứ tự nên sẽ không đoán được phần tử được lấy ra là phần tử nào\n",
    "print(any_value)"
   ]
  },
  {
   "cell_type": "code",
   "execution_count": 36,
   "id": "8d400e72",
   "metadata": {},
   "outputs": [
    {
     "name": "stdout",
     "output_type": "stream",
     "text": [
      "4\n",
      "5\n"
     ]
    }
   ],
   "source": [
    "#  một số mẹo khác\n",
    "t = 4,5\n",
    "a,b = t \n",
    "print(a)\n",
    "print(b)"
   ]
  },
  {
   "cell_type": "code",
   "execution_count": 37,
   "id": "dd2f65f8",
   "metadata": {},
   "outputs": [
    {
     "ename": "ValueError",
     "evalue": "not enough values to unpack (expected 3, got 2)",
     "output_type": "error",
     "traceback": [
      "\u001b[1;31m---------------------------------------------------------------------------\u001b[0m",
      "\u001b[1;31mValueError\u001b[0m                                Traceback (most recent call last)",
      "Cell \u001b[1;32mIn[37], line 2\u001b[0m\n\u001b[0;32m      1\u001b[0m \u001b[38;5;66;03m# sẽ báo lỗi\u001b[39;00m\n\u001b[1;32m----> 2\u001b[0m a,b,c \u001b[38;5;241m=\u001b[39m \u001b[38;5;241m4\u001b[39m,\u001b[38;5;241m5\u001b[39m\n",
      "\u001b[1;31mValueError\u001b[0m: not enough values to unpack (expected 3, got 2)"
     ]
    }
   ],
   "source": [
    "# sẽ báo lỗi\n",
    "a,b,c = 4,5"
   ]
  },
  {
   "cell_type": "code",
   "execution_count": 38,
   "id": "034afdd8",
   "metadata": {},
   "outputs": [
    {
     "name": "stdout",
     "output_type": "stream",
     "text": [
      "4 5 6\n"
     ]
    }
   ],
   "source": [
    "# đúng sẽ như sau\n",
    "a,b,c = 4,5,6\n",
    "print(a,b,c)"
   ]
  },
  {
   "cell_type": "code",
   "execution_count": 39,
   "id": "2e707fe8",
   "metadata": {},
   "outputs": [
    {
     "name": "stdout",
     "output_type": "stream",
     "text": [
      "23\n"
     ]
    }
   ],
   "source": [
    "# list in tuple\n",
    "friends = [\n",
    "    (\"Bob\",23),\n",
    "    (\"Jen\",42),\n",
    "    (\"kenny\",21),\n",
    "]\n",
    "\n",
    "# để lấy giá trị 23\n",
    "print(friends[0][1])"
   ]
  },
  {
   "cell_type": "code",
   "execution_count": 41,
   "id": "71ae3c6a",
   "metadata": {},
   "outputs": [
    {
     "name": "stdout",
     "output_type": "stream",
     "text": [
      "3\n",
      "[[1, [2, 3, 100]], (2, 4)]\n"
     ]
    }
   ],
   "source": [
    "# để lấy ra giá trị trong list như này\n",
    "lst = [[1,[2,3]],(2,4)]\n",
    "print(lst[0][1][1])\n",
    "\n",
    "# để thêm giá trị \n",
    "lst[0][1].append(100)\n",
    "print(lst)"
   ]
  },
  {
   "cell_type": "code",
   "execution_count": null,
   "id": "0948bd76",
   "metadata": {},
   "outputs": [
    {
     "name": "stdout",
     "output_type": "stream",
     "text": [
      "[[1, [2, 3]], (2, 4)]\n",
      "[[1, [2, 3, 100]], (2, 4)]\n",
      "[[1, [2, 3]], (2, 4)]\n",
      "[[1, [2, 3]], (2, 4)]\n"
     ]
    }
   ],
   "source": [
    "# để copy list ta sử dụng copy hoặc [:]\n",
    "\n",
    "lst = [[1,[2,3]],(2,4)]\n",
    "lst_1 = lst[:]\n",
    "print(lst)\n",
    "\n",
    "lst[0][1].append(100)\n",
    "print(lst_1) # khi copy bằng [:] hoặc copy() thì chỉ copy dấu ngoặc vuông bên ngoài thôi còn ở trong sao thì kệ \n",
    "\n",
    "# để không muốn không ảnh hưởng như trên thì ta sử dụng\n",
    "from copy import deepcopy\n",
    "\n",
    "lst = [[1,[2,3]],(2,4)]\n",
    "lst_1 = deepcopy(lst) # sẽ copy sâu nên không bị ảnh hưởng như trên. đây là copy hoàn toàn còn trên thì chỉ copy dấu ngoặc vuông ngoài.\n",
    "print(lst)\n",
    "\n",
    "lst[0][1].append(100)\n",
    "print(lst_1)"
   ]
  },
  {
   "cell_type": "code",
   "execution_count": 50,
   "id": "6fb24bd0",
   "metadata": {},
   "outputs": [
    {
     "name": "stdout",
     "output_type": "stream",
     "text": [
      "True\n",
      "False\n",
      "True\n"
     ]
    }
   ],
   "source": [
    "# thay vì sử dụng hàm type thì ta sử dụng isinstance để trả về T F giống như ở dưới\n",
    "print(isinstance(3,int))\n",
    "print(isinstance(3,float))\n",
    "\n",
    "print(isinstance(True,int))"
   ]
  },
  {
   "cell_type": "code",
   "execution_count": 56,
   "id": "2071db29",
   "metadata": {},
   "outputs": [
    {
     "name": "stdout",
     "output_type": "stream",
     "text": [
      "1\n",
      "1\n",
      "-1\n"
     ]
    }
   ],
   "source": [
    "print(abs(-1)) # hàm trị tuyệt đối.\n",
    "print(abs(True))\n",
    "print(-True)"
   ]
  },
  {
   "cell_type": "code",
   "execution_count": 60,
   "id": "9ad468d3",
   "metadata": {},
   "outputs": [
    {
     "name": "stdout",
     "output_type": "stream",
     "text": [
      "a\n",
      "'a'\n",
      "'a'\n",
      "2\n"
     ]
    }
   ],
   "source": [
    "# để in ra dấu nháy khi in ra\n",
    "print(\"a\")\n",
    "print(repr(\"a\"))\n",
    "f = 2\n",
    "\n",
    "a = \"a\" # hoặc có thể sử dụng\n",
    "print(f\"{a!r}\")\n",
    "print(f\"{f!r}\")"
   ]
  },
  {
   "cell_type": "code",
   "execution_count": null,
   "id": "cc7d7618",
   "metadata": {},
   "outputs": [],
   "source": []
  }
 ],
 "metadata": {
  "kernelspec": {
   "display_name": "Python 3",
   "language": "python",
   "name": "python3"
  },
  "language_info": {
   "codemirror_mode": {
    "name": "ipython",
    "version": 3
   },
   "file_extension": ".py",
   "mimetype": "text/x-python",
   "name": "python",
   "nbconvert_exporter": "python",
   "pygments_lexer": "ipython3",
   "version": "3.10.9"
  }
 },
 "nbformat": 4,
 "nbformat_minor": 5
}
