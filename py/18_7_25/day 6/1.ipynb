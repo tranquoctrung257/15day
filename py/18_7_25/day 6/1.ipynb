{
 "cells": [
  {
   "cell_type": "markdown",
   "id": "e6497a0b",
   "metadata": {},
   "source": []
  }
 ],
 "metadata": {
  "language_info": {
   "name": "python"
  }
 },
 "nbformat": 4,
 "nbformat_minor": 5
}
