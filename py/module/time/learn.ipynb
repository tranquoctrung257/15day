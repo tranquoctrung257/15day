{
 "cells": [
  {
   "cell_type": "code",
   "execution_count": null,
   "id": "722aa35b",
   "metadata": {},
   "outputs": [],
   "source": [
    "import time"
   ]
  },
  {
   "cell_type": "code",
   "execution_count": null,
   "id": "9abbfd3f",
   "metadata": {},
   "outputs": [
    {
     "name": "stdout",
     "output_type": "stream",
     "text": [
      "1754441301.1528747\n"
     ]
    }
   ],
   "source": [
    "# 1\n",
    "print(time.time()) # trả về thời gian hiện tại số giây từ 01/01/1970"
   ]
  },
  {
   "cell_type": "code",
   "execution_count": null,
   "id": "c21e903f",
   "metadata": {},
   "outputs": [],
   "source": [
    "# 2\n",
    "time.sleep(2) # dừng lại 2s rồi chạy tiếp"
   ]
  },
  {
   "cell_type": "code",
   "execution_count": null,
   "id": "c3dfc869",
   "metadata": {},
   "outputs": [
    {
     "name": "stdout",
     "output_type": "stream",
     "text": [
      "1341071.8265434\n",
      "3.4300144761800766e-05\n",
      "2.6399968191981316e-05\n"
     ]
    }
   ],
   "source": [
    "# 3\n",
    "print(time.perf_counter()) # dùng để do giống time.time()\n",
    "start = time.perf_counter()\n",
    "# code\n",
    "end = time.perf_counter()\n",
    "print(end-start)\n"
   ]
  },
  {
   "cell_type": "markdown",
   "id": "75ded057",
   "metadata": {},
   "source": [
    "4.time.strftime()\n",
    "| Format | Ý nghĩa   | Ví dụ |\n",
    "| ------ | --------- | ----- |\n",
    "| `%Y`   | Năm       | 2025  |\n",
    "| `%m`   | Tháng     | 08    |\n",
    "| `%d`   | Ngày      | 06    |\n",
    "| `%H`   | Giờ (24h) | 17    |\n",
    "| `%M`   | Phút      | 30    |\n",
    "| `%S`   | Giây      | 15    |"
   ]
  },
  {
   "cell_type": "code",
   "execution_count": 28,
   "id": "89f12616",
   "metadata": {},
   "outputs": [
    {
     "name": "stdout",
     "output_type": "stream",
     "text": [
      "2025-08-06 08:07:53\n",
      "Wednesday\n"
     ]
    }
   ],
   "source": [
    "print(time.strftime(\"%Y-%m-%d %H:%M:%S\"))\n",
    "print(time.strftime(\"%A\"))"
   ]
  },
  {
   "cell_type": "code",
   "execution_count": null,
   "id": "33f4a88e",
   "metadata": {},
   "outputs": [
    {
     "name": "stdout",
     "output_type": "stream",
     "text": [
      "time.struct_time(tm_year=2025, tm_mon=8, tm_mday=6, tm_hour=7, tm_min=56, tm_sec=24, tm_wday=2, tm_yday=218, tm_isdst=0)\n",
      "time.struct_time(tm_year=2025, tm_mon=8, tm_mday=6, tm_hour=0, tm_min=56, tm_sec=24, tm_wday=2, tm_yday=218, tm_isdst=0)\n"
     ]
    },
    {
     "ename": "TypeError",
     "evalue": "structseq() missing required argument 'sequence' (pos 1)",
     "output_type": "error",
     "traceback": [
      "\u001b[1;31m---------------------------------------------------------------------------\u001b[0m",
      "\u001b[1;31mTypeError\u001b[0m                                 Traceback (most recent call last)",
      "Cell \u001b[1;32mIn[16], line 6\u001b[0m\n\u001b[0;32m      3\u001b[0m \u001b[38;5;28mprint\u001b[39m(time\u001b[38;5;241m.\u001b[39mgmtime()) \u001b[38;5;66;03m# hiện thị giờ utc\u001b[39;00m\n\u001b[0;32m      5\u001b[0m \u001b[38;5;66;03m# có thể lấy giá trị\u001b[39;00m\n\u001b[1;32m----> 6\u001b[0m \u001b[38;5;28mprint\u001b[39m(\u001b[43mtime\u001b[49m\u001b[38;5;241;43m.\u001b[39;49m\u001b[43mstruct_time\u001b[49m\u001b[43m(\u001b[49m\u001b[43m)\u001b[49m)\n",
      "\u001b[1;31mTypeError\u001b[0m: structseq() missing required argument 'sequence' (pos 1)"
     ]
    }
   ],
   "source": [
    "#5. hiện thị ngày giờ \n",
    "print(time.localtime()) # hiện thị giờ của thiết bị\n",
    "print(time.gmtime()) # hiện thị giờ utc\n",
    "\n",
    "# có thể lấy giá trị\n"
   ]
  },
  {
   "cell_type": "code",
   "execution_count": 23,
   "id": "01138322",
   "metadata": {},
   "outputs": [
    {
     "ename": "SyntaxError",
     "evalue": "invalid syntax (3680904975.py, line 3)",
     "output_type": "error",
     "traceback": [
      "\u001b[1;36m  Cell \u001b[1;32mIn[23], line 3\u001b[1;36m\u001b[0m\n\u001b[1;33m    print(time.ctime(1690000000))  ??????\u001b[0m\n\u001b[1;37m                                   ^\u001b[0m\n\u001b[1;31mSyntaxError\u001b[0m\u001b[1;31m:\u001b[0m invalid syntax\n"
     ]
    }
   ],
   "source": [
    "#6 struct_time \n",
    "print(time.ctime()) # thời gian hiện tại\n",
    "print(time.ctime(1690000000))  ??????"
   ]
  },
  {
   "cell_type": "code",
   "execution_count": 26,
   "id": "4738143d",
   "metadata": {},
   "outputs": [
    {
     "ename": "TypeError",
     "evalue": "'int' object is not callable",
     "output_type": "error",
     "traceback": [
      "\u001b[1;31m---------------------------------------------------------------------------\u001b[0m",
      "\u001b[1;31mTypeError\u001b[0m                                 Traceback (most recent call last)",
      "Cell \u001b[1;32mIn[26], line 2\u001b[0m\n\u001b[0;32m      1\u001b[0m \u001b[38;5;66;03m#7 \u001b[39;00m\n\u001b[1;32m----> 2\u001b[0m \u001b[38;5;28mprint\u001b[39m(\u001b[43mtime\u001b[49m\u001b[38;5;241;43m.\u001b[39;49m\u001b[43mdaylight\u001b[49m\u001b[43m(\u001b[49m\u001b[38;5;241;43m1\u001b[39;49m\u001b[43m)\u001b[49m)\n",
      "\u001b[1;31mTypeError\u001b[0m: 'int' object is not callable"
     ]
    }
   ],
   "source": [
    "#7 \n",
    "print(time.daylight(1))"
   ]
  },
  {
   "cell_type": "code",
   "execution_count": null,
   "id": "b8a6aacb",
   "metadata": {},
   "outputs": [],
   "source": []
  }
 ],
 "metadata": {
  "kernelspec": {
   "display_name": "Python 3",
   "language": "python",
   "name": "python3"
  },
  "language_info": {
   "codemirror_mode": {
    "name": "ipython",
    "version": 3
   },
   "file_extension": ".py",
   "mimetype": "text/x-python",
   "name": "python",
   "nbconvert_exporter": "python",
   "pygments_lexer": "ipython3",
   "version": "3.10.9"
  }
 },
 "nbformat": 4,
 "nbformat_minor": 5
}
